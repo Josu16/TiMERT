{
 "cells": [
  {
   "cell_type": "code",
   "execution_count": 456,
   "id": "8ae32bce-2253-4268-8106-705f340babcb",
   "metadata": {},
   "outputs": [],
   "source": [
    "import pandas as pd\n",
    "import numpy as np\n",
    "import mlflow\n",
    "from mlflow.tracking import MlflowClient"
   ]
  },
  {
   "cell_type": "code",
   "execution_count": 293,
   "id": "0e7e27f4-2ea6-4934-8a0f-52640e0ef395",
   "metadata": {},
   "outputs": [],
   "source": [
    "import matplotlib.pyplot as plt\n",
    "import matplotlib.ticker as ticker\n",
    "import matplotlib.dates as mdates\n",
    "from datetime import time, timedelta, datetime"
   ]
  },
  {
   "cell_type": "code",
   "execution_count": 294,
   "id": "630a9bb5-008b-4802-ab2e-ff3a0285ec49",
   "metadata": {},
   "outputs": [],
   "source": [
    "client = MlflowClient()"
   ]
  },
  {
   "cell_type": "code",
   "execution_count": 295,
   "id": "6a682b85-39a6-47b8-add4-5b4336011573",
   "metadata": {},
   "outputs": [],
   "source": [
    "def cast_to_datetime(seconds):\n",
    "    # Convierte los segundos en horas, minutos y segundos\n",
    "    seconds = round(seconds)\n",
    "    hours, remainder = divmod(seconds, 3600)\n",
    "    minutes, seconds = divmod(remainder, 60)\n",
    "    \n",
    "    # Crea un objeto time con estos valores\n",
    "    return time(hour=hours, minute=minutes, second=seconds)"
   ]
  },
  {
   "cell_type": "code",
   "execution_count": 304,
   "id": "bd99cc79-d8c3-47ec-85bc-cf25eb0002bd",
   "metadata": {},
   "outputs": [],
   "source": [
    "def pass_thru(value):\n",
    "    return value\n",
    "\n",
    "def get_metric_info(run_id, key, x_type = \"numeric\", y_type=\"numeric\"):\n",
    "    metric_history = client.get_metric_history(run_id, key)\n",
    "    metric_values = [metric.value for metric in metric_history]\n",
    "    metric_steps = [metric.step for metric in metric_history]\n",
    "    avg_metric = sum(metric_values) / len(metric_values)\n",
    "\n",
    "\n",
    "    if y_type == \"time\":\n",
    "        avg_metric = cast_to_datetime(avg_metric)\n",
    "    print(avg_metric)\n",
    "    "
   ]
  },
  {
   "cell_type": "code",
   "execution_count": 305,
   "id": "a0adb473-cd28-4909-802f-53a16c14e572",
   "metadata": {},
   "outputs": [],
   "source": [
    "def plot_metric(run_id, key, x_label, y_label, title, file_name):\n",
    "    metric_history = client.get_metric_history(run_id, key)\n",
    "    metric_values = [metric.value for metric in metric_history]\n",
    "    metric_steps = [metric.step for metric in metric_history]\n",
    "\n",
    "    # Crear la figura y el gráfico\n",
    "    plt.figure(figsize=(10, 5))\n",
    "    plt.plot(metric_steps, metric_values, color=\"#F80044\", linewidth=2, alpha=0.8)\n",
    "\n",
    "    # Etiquetas y título\n",
    "    plt.xlabel(x_label)\n",
    "    plt.ylabel(y_label)\n",
    "    plt.title(title)\n",
    "\n",
    "    # Mostrar la cuadrícula\n",
    "    plt.grid(True, which='both', linestyle='--', linewidth=0.5)\n",
    "\n",
    "    plt.savefig(file_name, format='png', dpi=300, bbox_inches='tight')\n",
    "\n",
    "    # Mostrar el gráfico\n",
    "    plt.show()\n",
    "\n",
    "    "
   ]
  },
  {
   "cell_type": "markdown",
   "id": "1a447ade-105e-4348-85f5-b51c9b77dbf0",
   "metadata": {},
   "source": [
    "## Obtener experimento de pre-entrenamiento"
   ]
  },
  {
   "cell_type": "code",
   "execution_count": 296,
   "id": "f44f2e71-9e63-4d99-a0c9-07f185be1b08",
   "metadata": {},
   "outputs": [],
   "source": [
    "mlflow.set_tracking_uri(\"http://localhost:5000\")"
   ]
  },
  {
   "cell_type": "code",
   "execution_count": 297,
   "id": "6d89cb7c-92ef-4f5d-a156-7567e9d06ca0",
   "metadata": {},
   "outputs": [
    {
     "data": {
      "text/plain": [
       "<Experiment: artifact_location='file:///opt/code/mlruns/489730860219751947', creation_time=1723987912634, experiment_id='489730860219751947', last_update_time=1723987912634, lifecycle_stage='active', name='Pre-train', tags={}>"
      ]
     },
     "execution_count": 297,
     "metadata": {},
     "output_type": "execute_result"
    }
   ],
   "source": [
    "mlflow.set_experiment(\"Pre-train\")"
   ]
  },
  {
   "cell_type": "code",
   "execution_count": null,
   "id": "4a98d09e-5fae-44c7-856c-cc43c8e7d6c3",
   "metadata": {},
   "outputs": [],
   "source": []
  },
  {
   "cell_type": "markdown",
   "id": "a84d303f-b92d-4fac-baa2-bcfce5ba1ed7",
   "metadata": {
    "jp-MarkdownHeadingCollapsed": true
   },
   "source": [
    "## Experimento 2"
   ]
  },
  {
   "cell_type": "markdown",
   "id": "13d7b87b-4bec-4402-8556-43967e55ca95",
   "metadata": {},
   "source": [
    "#### fine-tuning"
   ]
  },
  {
   "cell_type": "code",
   "execution_count": 298,
   "id": "c35b77e5-4b15-43ca-89b1-8c0f7faea05a",
   "metadata": {},
   "outputs": [],
   "source": [
    "experiment = mlflow.get_experiment_by_name(\"Fine-tuning\")"
   ]
  },
  {
   "cell_type": "code",
   "execution_count": 299,
   "id": "9fcf92b2-4ab1-488e-9783-87f0867de739",
   "metadata": {},
   "outputs": [],
   "source": [
    "runs = mlflow.search_runs(experiment_ids=[experiment.experiment_id])"
   ]
  },
  {
   "cell_type": "code",
   "execution_count": 300,
   "id": "f379d0f7-7d84-4be2-bcd6-ae77a025d63e",
   "metadata": {},
   "outputs": [],
   "source": [
    "exp1 = runs[runs[\"tags.mlflow.runName\"] == \"youthful-boar-759\"] ## AÚN NO ES VÁLIDO EST EXPERIMENTO."
   ]
  },
  {
   "cell_type": "code",
   "execution_count": 301,
   "id": "6a982da4-d518-4e7c-a9c1-e898242b7cf1",
   "metadata": {},
   "outputs": [
    {
     "data": {
      "text/html": [
       "<div>\n",
       "<style scoped>\n",
       "    .dataframe tbody tr th:only-of-type {\n",
       "        vertical-align: middle;\n",
       "    }\n",
       "\n",
       "    .dataframe tbody tr th {\n",
       "        vertical-align: top;\n",
       "    }\n",
       "\n",
       "    .dataframe thead th {\n",
       "        text-align: right;\n",
       "    }\n",
       "</style>\n",
       "<table border=\"1\" class=\"dataframe\">\n",
       "  <thead>\n",
       "    <tr style=\"text-align: right;\">\n",
       "      <th></th>\n",
       "      <th>run_id</th>\n",
       "      <th>experiment_id</th>\n",
       "      <th>status</th>\n",
       "      <th>artifact_uri</th>\n",
       "      <th>start_time</th>\n",
       "      <th>end_time</th>\n",
       "      <th>metrics.system/gpu_2_power_usage_watts</th>\n",
       "      <th>metrics.system/gpu_2_utilization_percentage</th>\n",
       "      <th>metrics.system/gpu_3_utilization_percentage</th>\n",
       "      <th>metrics.system/gpu_3_memory_usage_percentage</th>\n",
       "      <th>...</th>\n",
       "      <th>tags.mlflow.user</th>\n",
       "      <th>tags.mlflow.source.type</th>\n",
       "      <th>tags.mlflow.runName</th>\n",
       "      <th>tags.mlflow.source.name</th>\n",
       "      <th>tags.mlflow.parentRunId</th>\n",
       "      <th>tags.mlflow.source.git.commit</th>\n",
       "      <th>tags.pretrain_run_id</th>\n",
       "      <th>tags.mlflow.note.content</th>\n",
       "      <th>tags.pretrain_run_name</th>\n",
       "      <th>tags.pretrain</th>\n",
       "    </tr>\n",
       "  </thead>\n",
       "  <tbody>\n",
       "    <tr>\n",
       "      <th>62</th>\n",
       "      <td>d885f3ef83c14f54851b3b2b32b321c3</td>\n",
       "      <td>278242996031726872</td>\n",
       "      <td>FINISHED</td>\n",
       "      <td>file:///opt/code/mlruns/278242996031726872/d88...</td>\n",
       "      <td>2024-08-27 13:07:44.168000+00:00</td>\n",
       "      <td>2024-08-27 20:39:36.825000+00:00</td>\n",
       "      <td>8.0</td>\n",
       "      <td>0.0</td>\n",
       "      <td>0.0</td>\n",
       "      <td>11.6</td>\n",
       "      <td>...</td>\n",
       "      <td>root</td>\n",
       "      <td>LOCAL</td>\n",
       "      <td>youthful-boar-759</td>\n",
       "      <td>timert_cli.py</td>\n",
       "      <td>None</td>\n",
       "      <td>87f0ecdc670444582b2d4560d2476503969e71df</td>\n",
       "      <td>07d71440248f4ed88b2d20a79725c795</td>\n",
       "      <td>parámetros congelados</td>\n",
       "      <td>gregarious-worm-576</td>\n",
       "      <td>None</td>\n",
       "    </tr>\n",
       "  </tbody>\n",
       "</table>\n",
       "<p>1 rows × 286 columns</p>\n",
       "</div>"
      ],
      "text/plain": [
       "                              run_id       experiment_id    status  \\\n",
       "62  d885f3ef83c14f54851b3b2b32b321c3  278242996031726872  FINISHED   \n",
       "\n",
       "                                         artifact_uri  \\\n",
       "62  file:///opt/code/mlruns/278242996031726872/d88...   \n",
       "\n",
       "                         start_time                         end_time  \\\n",
       "62 2024-08-27 13:07:44.168000+00:00 2024-08-27 20:39:36.825000+00:00   \n",
       "\n",
       "    metrics.system/gpu_2_power_usage_watts  \\\n",
       "62                                     8.0   \n",
       "\n",
       "    metrics.system/gpu_2_utilization_percentage  \\\n",
       "62                                          0.0   \n",
       "\n",
       "    metrics.system/gpu_3_utilization_percentage  \\\n",
       "62                                          0.0   \n",
       "\n",
       "    metrics.system/gpu_3_memory_usage_percentage  ...  tags.mlflow.user  \\\n",
       "62                                          11.6  ...              root   \n",
       "\n",
       "    tags.mlflow.source.type  tags.mlflow.runName  tags.mlflow.source.name  \\\n",
       "62                    LOCAL    youthful-boar-759            timert_cli.py   \n",
       "\n",
       "    tags.mlflow.parentRunId             tags.mlflow.source.git.commit  \\\n",
       "62                     None  87f0ecdc670444582b2d4560d2476503969e71df   \n",
       "\n",
       "                tags.pretrain_run_id  tags.mlflow.note.content  \\\n",
       "62  07d71440248f4ed88b2d20a79725c795     parámetros congelados   \n",
       "\n",
       "    tags.pretrain_run_name  tags.pretrain  \n",
       "62     gregarious-worm-576           None  \n",
       "\n",
       "[1 rows x 286 columns]"
      ]
     },
     "execution_count": 301,
     "metadata": {},
     "output_type": "execute_result"
    }
   ],
   "source": [
    "exp1"
   ]
  },
  {
   "cell_type": "code",
   "execution_count": 302,
   "id": "1c4bc197-61ce-4988-9fb1-d102cdeb9ca8",
   "metadata": {},
   "outputs": [],
   "source": [
    "run_id = exp1.iloc[0].run_id"
   ]
  },
  {
   "cell_type": "code",
   "execution_count": 303,
   "id": "bc5cc572-7c55-4ec9-a513-86b565a563b3",
   "metadata": {},
   "outputs": [
    {
     "data": {
      "text/plain": [
       "str"
      ]
     },
     "execution_count": 303,
     "metadata": {},
     "output_type": "execute_result"
    }
   ],
   "source": [
    "type(run_id)"
   ]
  },
  {
   "cell_type": "markdown",
   "id": "6113d5aa-de20-4cb5-9b51-c0154ad5c305",
   "metadata": {},
   "source": [
    "### Obtener conjuntos de métricas"
   ]
  },
  {
   "cell_type": "code",
   "execution_count": 306,
   "id": "ccda8929-d23b-41cc-9af4-193afeca663b",
   "metadata": {},
   "outputs": [
    {
     "data": {
      "text/html": [
       "<div>\n",
       "<style scoped>\n",
       "    .dataframe tbody tr th:only-of-type {\n",
       "        vertical-align: middle;\n",
       "    }\n",
       "\n",
       "    .dataframe tbody tr th {\n",
       "        vertical-align: top;\n",
       "    }\n",
       "\n",
       "    .dataframe thead th {\n",
       "        text-align: right;\n",
       "    }\n",
       "</style>\n",
       "<table border=\"1\" class=\"dataframe\">\n",
       "  <thead>\n",
       "    <tr style=\"text-align: right;\">\n",
       "      <th></th>\n",
       "      <th>run_id</th>\n",
       "      <th>experiment_id</th>\n",
       "      <th>status</th>\n",
       "      <th>artifact_uri</th>\n",
       "      <th>start_time</th>\n",
       "      <th>end_time</th>\n",
       "      <th>metrics.system/gpu_2_power_usage_watts</th>\n",
       "      <th>metrics.system/gpu_2_utilization_percentage</th>\n",
       "      <th>metrics.system/gpu_3_utilization_percentage</th>\n",
       "      <th>metrics.system/gpu_3_memory_usage_percentage</th>\n",
       "      <th>...</th>\n",
       "      <th>tags.mlflow.user</th>\n",
       "      <th>tags.mlflow.source.type</th>\n",
       "      <th>tags.mlflow.runName</th>\n",
       "      <th>tags.mlflow.source.name</th>\n",
       "      <th>tags.mlflow.parentRunId</th>\n",
       "      <th>tags.mlflow.source.git.commit</th>\n",
       "      <th>tags.pretrain_run_id</th>\n",
       "      <th>tags.mlflow.note.content</th>\n",
       "      <th>tags.pretrain_run_name</th>\n",
       "      <th>tags.pretrain</th>\n",
       "    </tr>\n",
       "  </thead>\n",
       "  <tbody>\n",
       "    <tr>\n",
       "      <th>62</th>\n",
       "      <td>d885f3ef83c14f54851b3b2b32b321c3</td>\n",
       "      <td>278242996031726872</td>\n",
       "      <td>FINISHED</td>\n",
       "      <td>file:///opt/code/mlruns/278242996031726872/d88...</td>\n",
       "      <td>2024-08-27 13:07:44.168000+00:00</td>\n",
       "      <td>2024-08-27 20:39:36.825000+00:00</td>\n",
       "      <td>8.0</td>\n",
       "      <td>0.0</td>\n",
       "      <td>0.0</td>\n",
       "      <td>11.6</td>\n",
       "      <td>...</td>\n",
       "      <td>root</td>\n",
       "      <td>LOCAL</td>\n",
       "      <td>youthful-boar-759</td>\n",
       "      <td>timert_cli.py</td>\n",
       "      <td>None</td>\n",
       "      <td>87f0ecdc670444582b2d4560d2476503969e71df</td>\n",
       "      <td>07d71440248f4ed88b2d20a79725c795</td>\n",
       "      <td>parámetros congelados</td>\n",
       "      <td>gregarious-worm-576</td>\n",
       "      <td>None</td>\n",
       "    </tr>\n",
       "  </tbody>\n",
       "</table>\n",
       "<p>1 rows × 286 columns</p>\n",
       "</div>"
      ],
      "text/plain": [
       "                              run_id       experiment_id    status  \\\n",
       "62  d885f3ef83c14f54851b3b2b32b321c3  278242996031726872  FINISHED   \n",
       "\n",
       "                                         artifact_uri  \\\n",
       "62  file:///opt/code/mlruns/278242996031726872/d88...   \n",
       "\n",
       "                         start_time                         end_time  \\\n",
       "62 2024-08-27 13:07:44.168000+00:00 2024-08-27 20:39:36.825000+00:00   \n",
       "\n",
       "    metrics.system/gpu_2_power_usage_watts  \\\n",
       "62                                     8.0   \n",
       "\n",
       "    metrics.system/gpu_2_utilization_percentage  \\\n",
       "62                                          0.0   \n",
       "\n",
       "    metrics.system/gpu_3_utilization_percentage  \\\n",
       "62                                          0.0   \n",
       "\n",
       "    metrics.system/gpu_3_memory_usage_percentage  ...  tags.mlflow.user  \\\n",
       "62                                          11.6  ...              root   \n",
       "\n",
       "    tags.mlflow.source.type  tags.mlflow.runName  tags.mlflow.source.name  \\\n",
       "62                    LOCAL    youthful-boar-759            timert_cli.py   \n",
       "\n",
       "    tags.mlflow.parentRunId             tags.mlflow.source.git.commit  \\\n",
       "62                     None  87f0ecdc670444582b2d4560d2476503969e71df   \n",
       "\n",
       "                tags.pretrain_run_id  tags.mlflow.note.content  \\\n",
       "62  07d71440248f4ed88b2d20a79725c795     parámetros congelados   \n",
       "\n",
       "    tags.pretrain_run_name  tags.pretrain  \n",
       "62     gregarious-worm-576           None  \n",
       "\n",
       "[1 rows x 286 columns]"
      ]
     },
     "execution_count": 306,
     "metadata": {},
     "output_type": "execute_result"
    }
   ],
   "source": [
    "exp1"
   ]
  },
  {
   "cell_type": "code",
   "execution_count": 307,
   "id": "b0ee5ad7-e4ee-4d77-a9a9-124353262cbf",
   "metadata": {},
   "outputs": [
    {
     "name": "stdout",
     "output_type": "stream",
     "text": [
      "4.474074074074073\n"
     ]
    }
   ],
   "source": [
    "get_metric_info(\"d885f3ef83c14f54851b3b2b32b321c3\", \"system/cpu_utilization_percentage\")"
   ]
  },
  {
   "cell_type": "code",
   "execution_count": 308,
   "id": "59435964-a0fa-4948-b123-e94ed018854a",
   "metadata": {},
   "outputs": [
    {
     "name": "stdout",
     "output_type": "stream",
     "text": [
      "3643.4370370370375\n"
     ]
    }
   ],
   "source": [
    "get_metric_info(\"d885f3ef83c14f54851b3b2b32b321c3\", \"system/system_memory_usage_megabytes\")"
   ]
  },
  {
   "cell_type": "code",
   "execution_count": 309,
   "id": "23ccca1e-cfcd-43c4-adb0-252dd7fe0b7c",
   "metadata": {},
   "outputs": [
    {
     "name": "stdout",
     "output_type": "stream",
     "text": [
      "22.48148148148148\n"
     ]
    }
   ],
   "source": [
    "get_metric_info(\"d885f3ef83c14f54851b3b2b32b321c3\", \"system/gpu_3_utilization_percentage\")"
   ]
  },
  {
   "cell_type": "code",
   "execution_count": 310,
   "id": "f9a53c05-0704-4941-84e1-0a6a62c17c87",
   "metadata": {},
   "outputs": [
    {
     "name": "stdout",
     "output_type": "stream",
     "text": [
      "1332.737037037037\n"
     ]
    }
   ],
   "source": [
    "get_metric_info(\"d885f3ef83c14f54851b3b2b32b321c3\", \"system/gpu_3_memory_usage_megabytes\")"
   ]
  },
  {
   "cell_type": "code",
   "execution_count": 311,
   "id": "8892e2fb-1eb3-4c12-8ef0-c8ff05dd7fb4",
   "metadata": {},
   "outputs": [
    {
     "name": "stdout",
     "output_type": "stream",
     "text": [
      "76.72407407407407\n"
     ]
    }
   ],
   "source": [
    "get_metric_info(\"d885f3ef83c14f54851b3b2b32b321c3\", \"system/gpu_3_power_usage_watts\")"
   ]
  },
  {
   "cell_type": "markdown",
   "id": "608f512e-abec-429e-930f-a0b62dfa947a",
   "metadata": {},
   "source": [
    "#### Métrcias de clasificación"
   ]
  },
  {
   "cell_type": "code",
   "execution_count": 312,
   "id": "d03e22ac-a4a5-4cf6-8e42-77af68c6dd6b",
   "metadata": {},
   "outputs": [],
   "source": [
    "all_runs = client.search_runs(\n",
    "        experiment_ids=[experiment.experiment_id],\n",
    "        filter_string=f\"tags.mlflow.parentRunId = '{experiment.experiment_id}'\"\n",
    "    )"
   ]
  },
  {
   "cell_type": "code",
   "execution_count": 313,
   "id": "71248035-a1bc-48fc-9615-8af6fca2faf0",
   "metadata": {},
   "outputs": [
    {
     "data": {
      "text/plain": [
       "[]"
      ]
     },
     "execution_count": 313,
     "metadata": {},
     "output_type": "execute_result"
    }
   ],
   "source": [
    "all_runs"
   ]
  },
  {
   "cell_type": "markdown",
   "id": "5a50902f-20b6-4069-9e15-8e512d1e39c9",
   "metadata": {
    "jp-MarkdownHeadingCollapsed": true
   },
   "source": [
    "## Experimento 1"
   ]
  },
  {
   "cell_type": "markdown",
   "id": "1a3a6492-e579-4f8d-8727-8e68cf0d3002",
   "metadata": {},
   "source": [
    "#### Pre-entrenamiento"
   ]
  },
  {
   "cell_type": "code",
   "execution_count": 489,
   "id": "88b2e3d9-cacf-456f-918c-a611e4f7be64",
   "metadata": {},
   "outputs": [],
   "source": [
    "experiment = mlflow.get_experiment_by_name(\"Pre-train\")"
   ]
  },
  {
   "cell_type": "code",
   "execution_count": 490,
   "id": "9c6d2aa9-abb2-4935-9421-897c86ab0a0c",
   "metadata": {},
   "outputs": [],
   "source": [
    "runs = mlflow.search_runs(experiment_ids=[experiment.experiment_id])"
   ]
  },
  {
   "cell_type": "code",
   "execution_count": 491,
   "id": "51b836b4-7af4-4f14-9859-e1cacceab999",
   "metadata": {},
   "outputs": [],
   "source": [
    "exp= runs[runs[\"tags.mlflow.runName\"] == \"gregarious-worm-576\"]"
   ]
  },
  {
   "cell_type": "code",
   "execution_count": 492,
   "id": "d31bcda4-1530-4653-a8bf-a7d8cf100be8",
   "metadata": {},
   "outputs": [
    {
     "data": {
      "text/html": [
       "<div>\n",
       "<style scoped>\n",
       "    .dataframe tbody tr th:only-of-type {\n",
       "        vertical-align: middle;\n",
       "    }\n",
       "\n",
       "    .dataframe tbody tr th {\n",
       "        vertical-align: top;\n",
       "    }\n",
       "\n",
       "    .dataframe thead th {\n",
       "        text-align: right;\n",
       "    }\n",
       "</style>\n",
       "<table border=\"1\" class=\"dataframe\">\n",
       "  <thead>\n",
       "    <tr style=\"text-align: right;\">\n",
       "      <th></th>\n",
       "      <th>run_id</th>\n",
       "      <th>experiment_id</th>\n",
       "      <th>status</th>\n",
       "      <th>artifact_uri</th>\n",
       "      <th>start_time</th>\n",
       "      <th>end_time</th>\n",
       "      <th>metrics.system/gpu_2_power_usage_watts</th>\n",
       "      <th>metrics.system/gpu_2_utilization_percentage</th>\n",
       "      <th>metrics.system/gpu_3_utilization_percentage</th>\n",
       "      <th>metrics.system/gpu_3_memory_usage_percentage</th>\n",
       "      <th>...</th>\n",
       "      <th>params.aditional_loss_function</th>\n",
       "      <th>params.valid_frac</th>\n",
       "      <th>params.train_frac</th>\n",
       "      <th>tags.mlflow.user</th>\n",
       "      <th>tags.mlflow.source.type</th>\n",
       "      <th>tags.mlflow.runName</th>\n",
       "      <th>tags.mlflow.log-model.history</th>\n",
       "      <th>tags.mlflow.note.content</th>\n",
       "      <th>tags.mlflow.source.name</th>\n",
       "      <th>tags.mlflow.source.git.commit</th>\n",
       "    </tr>\n",
       "  </thead>\n",
       "  <tbody>\n",
       "    <tr>\n",
       "      <th>8</th>\n",
       "      <td>07d71440248f4ed88b2d20a79725c795</td>\n",
       "      <td>489730860219751947</td>\n",
       "      <td>FINISHED</td>\n",
       "      <td>file:///opt/code/mlruns/489730860219751947/07d...</td>\n",
       "      <td>2024-08-18 13:56:18.848000+00:00</td>\n",
       "      <td>2024-08-19 05:02:39.731000+00:00</td>\n",
       "      <td>8.1</td>\n",
       "      <td>0.0</td>\n",
       "      <td>0.0</td>\n",
       "      <td>30.6</td>\n",
       "      <td>...</td>\n",
       "      <td>L1Loss()</td>\n",
       "      <td>0.1</td>\n",
       "      <td>0.3</td>\n",
       "      <td>root</td>\n",
       "      <td>LOCAL</td>\n",
       "      <td>gregarious-worm-576</td>\n",
       "      <td>[{\"run_id\": \"07d71440248f4ed88b2d20a79725c795\"...</td>\n",
       "      <td>El modelo base de referencia, entrenado con lo...</td>\n",
       "      <td>timert_cli.py</td>\n",
       "      <td>995b1db9ec141e53e944119d790943eaa895bc1c</td>\n",
       "    </tr>\n",
       "  </tbody>\n",
       "</table>\n",
       "<p>1 rows × 81 columns</p>\n",
       "</div>"
      ],
      "text/plain": [
       "                             run_id       experiment_id    status  \\\n",
       "8  07d71440248f4ed88b2d20a79725c795  489730860219751947  FINISHED   \n",
       "\n",
       "                                        artifact_uri  \\\n",
       "8  file:///opt/code/mlruns/489730860219751947/07d...   \n",
       "\n",
       "                        start_time                         end_time  \\\n",
       "8 2024-08-18 13:56:18.848000+00:00 2024-08-19 05:02:39.731000+00:00   \n",
       "\n",
       "   metrics.system/gpu_2_power_usage_watts  \\\n",
       "8                                     8.1   \n",
       "\n",
       "   metrics.system/gpu_2_utilization_percentage  \\\n",
       "8                                          0.0   \n",
       "\n",
       "   metrics.system/gpu_3_utilization_percentage  \\\n",
       "8                                          0.0   \n",
       "\n",
       "   metrics.system/gpu_3_memory_usage_percentage  ...  \\\n",
       "8                                          30.6  ...   \n",
       "\n",
       "   params.aditional_loss_function  params.valid_frac  params.train_frac  \\\n",
       "8                        L1Loss()                0.1                0.3   \n",
       "\n",
       "   tags.mlflow.user  tags.mlflow.source.type  tags.mlflow.runName  \\\n",
       "8              root                    LOCAL  gregarious-worm-576   \n",
       "\n",
       "                       tags.mlflow.log-model.history  \\\n",
       "8  [{\"run_id\": \"07d71440248f4ed88b2d20a79725c795\"...   \n",
       "\n",
       "                            tags.mlflow.note.content  tags.mlflow.source.name  \\\n",
       "8  El modelo base de referencia, entrenado con lo...            timert_cli.py   \n",
       "\n",
       "              tags.mlflow.source.git.commit  \n",
       "8  995b1db9ec141e53e944119d790943eaa895bc1c  \n",
       "\n",
       "[1 rows x 81 columns]"
      ]
     },
     "execution_count": 492,
     "metadata": {},
     "output_type": "execute_result"
    }
   ],
   "source": [
    "exp"
   ]
  },
  {
   "cell_type": "code",
   "execution_count": 493,
   "id": "5bf106bf-581e-4288-b05c-479e7d920770",
   "metadata": {},
   "outputs": [],
   "source": [
    "run_id = exp.iloc[0].run_id"
   ]
  },
  {
   "cell_type": "markdown",
   "id": "c749d9c3-bdf3-4b3b-984b-a13eccfefa11",
   "metadata": {},
   "source": [
    "#### Obtener conjuntos de métricas"
   ]
  },
  {
   "cell_type": "code",
   "execution_count": 494,
   "id": "57b79bfa-657e-4388-8806-c4ea79c21630",
   "metadata": {},
   "outputs": [
    {
     "name": "stdout",
     "output_type": "stream",
     "text": [
      "00:02:16\n"
     ]
    }
   ],
   "source": [
    "get_metric_info(run_id, \"epoch_time\", y_type=\"time\")"
   ]
  },
  {
   "cell_type": "code",
   "execution_count": 495,
   "id": "24a8a0fa-95f2-4db1-92bc-8d4069a426ff",
   "metadata": {},
   "outputs": [
    {
     "name": "stdout",
     "output_type": "stream",
     "text": [
      "5.542211055276348\n"
     ]
    }
   ],
   "source": [
    "get_metric_info(run_id, \"system/cpu_utilization_percentage\")"
   ]
  },
  {
   "cell_type": "code",
   "execution_count": 496,
   "id": "ed878bff-fc4b-4121-b260-587a4613bd64",
   "metadata": {},
   "outputs": [
    {
     "name": "stdout",
     "output_type": "stream",
     "text": [
      "3966.983249581241\n"
     ]
    }
   ],
   "source": [
    "get_metric_info(run_id, \"system/system_memory_usage_megabytes\")"
   ]
  },
  {
   "cell_type": "code",
   "execution_count": 497,
   "id": "098950e0-50e0-4e93-92bf-0bac1134a81c",
   "metadata": {},
   "outputs": [
    {
     "name": "stdout",
     "output_type": "stream",
     "text": [
      "63.76046901172529\n"
     ]
    }
   ],
   "source": [
    "get_metric_info(run_id, \"system/gpu_3_utilization_percentage\")"
   ]
  },
  {
   "cell_type": "code",
   "execution_count": 498,
   "id": "ceacc578-5977-453e-b6fc-c94fa56fb838",
   "metadata": {},
   "outputs": [
    {
     "name": "stdout",
     "output_type": "stream",
     "text": [
      "3579.198324958096\n"
     ]
    }
   ],
   "source": [
    "get_metric_info(run_id, \"system/gpu_3_memory_usage_megabytes\")"
   ]
  },
  {
   "cell_type": "code",
   "execution_count": 499,
   "id": "5d2e6ffb-52d8-4d72-ae84-e53f02e45f74",
   "metadata": {},
   "outputs": [
    {
     "name": "stdout",
     "output_type": "stream",
     "text": [
      "140.88860971524295\n"
     ]
    }
   ],
   "source": [
    "get_metric_info(run_id, \"system/gpu_3_power_usage_watts\")"
   ]
  },
  {
   "cell_type": "code",
   "execution_count": null,
   "id": "842353d4-2b75-4c43-ac8d-36cf84195481",
   "metadata": {},
   "outputs": [],
   "source": []
  },
  {
   "cell_type": "code",
   "execution_count": 500,
   "id": "07d79b6e-4cd0-45ab-accf-cd0c62f70905",
   "metadata": {},
   "outputs": [
    {
     "data": {
      "image/png": "[encoded data removed]",
      "text/plain": [
       "<Figure size 720x360 with 1 Axes>"
      ]
     },
     "metadata": {
      "needs_background": "light"
     },
     "output_type": "display_data"
    }
   ],
   "source": [
    "plot_metric(run_id, \"average_loss\", \"Época\", \"Pérdida promedio\", \"Pérdida promedio por época\", \"loos_train_exp2.png\")"
   ]
  },
  {
   "cell_type": "markdown",
   "id": "762cf92e-ec74-4852-bda3-98f5453770b1",
   "metadata": {},
   "source": [
    "#### Ajuste fino"
   ]
  },
  {
   "cell_type": "code",
   "execution_count": 410,
   "id": "25deb4ad-0df0-4a29-b0ef-4074e6d9137d",
   "metadata": {},
   "outputs": [],
   "source": [
    "experiment = mlflow.get_experiment_by_name(\"Fine-tuning\")"
   ]
  },
  {
   "cell_type": "code",
   "execution_count": 411,
   "id": "6e464c0b-64f9-4ef2-999a-a9bde7eb0163",
   "metadata": {},
   "outputs": [],
   "source": [
    "runs = mlflow.search_runs(experiment_ids=[experiment.experiment_id])"
   ]
  },
  {
   "cell_type": "code",
   "execution_count": 412,
   "id": "ba055697-8b7a-4be4-9919-bb84f791aaf8",
   "metadata": {},
   "outputs": [],
   "source": [
    "exp = runs[runs[\"tags.mlflow.runName\"] ==  \"youthful-boar-759\"]"
   ]
  },
  {
   "cell_type": "code",
   "execution_count": 416,
   "id": "663b559a-44f4-4f25-b3a1-9ec6da2fec0b",
   "metadata": {},
   "outputs": [
    {
     "data": {
      "text/html": [
       "<div>\n",
       "<style scoped>\n",
       "    .dataframe tbody tr th:only-of-type {\n",
       "        vertical-align: middle;\n",
       "    }\n",
       "\n",
       "    .dataframe tbody tr th {\n",
       "        vertical-align: top;\n",
       "    }\n",
       "\n",
       "    .dataframe thead th {\n",
       "        text-align: right;\n",
       "    }\n",
       "</style>\n",
       "<table border=\"1\" class=\"dataframe\">\n",
       "  <thead>\n",
       "    <tr style=\"text-align: right;\">\n",
       "      <th></th>\n",
       "      <th>run_id</th>\n",
       "      <th>experiment_id</th>\n",
       "      <th>status</th>\n",
       "      <th>artifact_uri</th>\n",
       "      <th>start_time</th>\n",
       "      <th>end_time</th>\n",
       "      <th>metrics.system/gpu_2_power_usage_watts</th>\n",
       "      <th>metrics.system/gpu_2_utilization_percentage</th>\n",
       "      <th>metrics.system/gpu_3_utilization_percentage</th>\n",
       "      <th>metrics.system/gpu_3_memory_usage_percentage</th>\n",
       "      <th>...</th>\n",
       "      <th>tags.mlflow.user</th>\n",
       "      <th>tags.mlflow.source.type</th>\n",
       "      <th>tags.mlflow.runName</th>\n",
       "      <th>tags.mlflow.source.name</th>\n",
       "      <th>tags.mlflow.parentRunId</th>\n",
       "      <th>tags.mlflow.source.git.commit</th>\n",
       "      <th>tags.pretrain_run_id</th>\n",
       "      <th>tags.mlflow.note.content</th>\n",
       "      <th>tags.pretrain_run_name</th>\n",
       "      <th>tags.pretrain</th>\n",
       "    </tr>\n",
       "  </thead>\n",
       "  <tbody>\n",
       "    <tr>\n",
       "      <th>62</th>\n",
       "      <td>d885f3ef83c14f54851b3b2b32b321c3</td>\n",
       "      <td>278242996031726872</td>\n",
       "      <td>FINISHED</td>\n",
       "      <td>file:///opt/code/mlruns/278242996031726872/d88...</td>\n",
       "      <td>2024-08-27 13:07:44.168000+00:00</td>\n",
       "      <td>2024-08-27 20:39:36.825000+00:00</td>\n",
       "      <td>8.0</td>\n",
       "      <td>0.0</td>\n",
       "      <td>0.0</td>\n",
       "      <td>11.6</td>\n",
       "      <td>...</td>\n",
       "      <td>root</td>\n",
       "      <td>LOCAL</td>\n",
       "      <td>youthful-boar-759</td>\n",
       "      <td>timert_cli.py</td>\n",
       "      <td>None</td>\n",
       "      <td>87f0ecdc670444582b2d4560d2476503969e71df</td>\n",
       "      <td>07d71440248f4ed88b2d20a79725c795</td>\n",
       "      <td>parámetros congelados</td>\n",
       "      <td>gregarious-worm-576</td>\n",
       "      <td>None</td>\n",
       "    </tr>\n",
       "  </tbody>\n",
       "</table>\n",
       "<p>1 rows × 286 columns</p>\n",
       "</div>"
      ],
      "text/plain": [
       "                              run_id       experiment_id    status  \\\n",
       "62  d885f3ef83c14f54851b3b2b32b321c3  278242996031726872  FINISHED   \n",
       "\n",
       "                                         artifact_uri  \\\n",
       "62  file:///opt/code/mlruns/278242996031726872/d88...   \n",
       "\n",
       "                         start_time                         end_time  \\\n",
       "62 2024-08-27 13:07:44.168000+00:00 2024-08-27 20:39:36.825000+00:00   \n",
       "\n",
       "    metrics.system/gpu_2_power_usage_watts  \\\n",
       "62                                     8.0   \n",
       "\n",
       "    metrics.system/gpu_2_utilization_percentage  \\\n",
       "62                                          0.0   \n",
       "\n",
       "    metrics.system/gpu_3_utilization_percentage  \\\n",
       "62                                          0.0   \n",
       "\n",
       "    metrics.system/gpu_3_memory_usage_percentage  ...  tags.mlflow.user  \\\n",
       "62                                          11.6  ...              root   \n",
       "\n",
       "    tags.mlflow.source.type  tags.mlflow.runName  tags.mlflow.source.name  \\\n",
       "62                    LOCAL    youthful-boar-759            timert_cli.py   \n",
       "\n",
       "    tags.mlflow.parentRunId             tags.mlflow.source.git.commit  \\\n",
       "62                     None  87f0ecdc670444582b2d4560d2476503969e71df   \n",
       "\n",
       "                tags.pretrain_run_id  tags.mlflow.note.content  \\\n",
       "62  07d71440248f4ed88b2d20a79725c795     parámetros congelados   \n",
       "\n",
       "    tags.pretrain_run_name  tags.pretrain  \n",
       "62     gregarious-worm-576           None  \n",
       "\n",
       "[1 rows x 286 columns]"
      ]
     },
     "execution_count": 416,
     "metadata": {},
     "output_type": "execute_result"
    }
   ],
   "source": [
    "exp"
   ]
  },
  {
   "cell_type": "code",
   "execution_count": 417,
   "id": "a9845670-cf67-4983-9e03-fcd4273bc8f8",
   "metadata": {},
   "outputs": [],
   "source": [
    "run_id = exp.iloc[0].run_id"
   ]
  },
  {
   "cell_type": "code",
   "execution_count": 423,
   "id": "e4deb4c6-18ea-4297-ac4a-7170d218009b",
   "metadata": {},
   "outputs": [],
   "source": [
    "exp_id = exp.iloc[0].experiment_id"
   ]
  },
  {
   "cell_type": "code",
   "execution_count": 418,
   "id": "c685d241-d4fb-44e8-9f31-0fa3242995d8",
   "metadata": {},
   "outputs": [
    {
     "name": "stdout",
     "output_type": "stream",
     "text": [
      "4.474074074074073\n"
     ]
    }
   ],
   "source": [
    "get_metric_info(run_id, \"system/cpu_utilization_percentage\")"
   ]
  },
  {
   "cell_type": "code",
   "execution_count": 419,
   "id": "e4cdf203-d6eb-47e0-845b-73db71ea12bc",
   "metadata": {},
   "outputs": [
    {
     "name": "stdout",
     "output_type": "stream",
     "text": [
      "3643.4370370370375\n"
     ]
    }
   ],
   "source": [
    "get_metric_info(run_id, \"system/system_memory_usage_megabytes\")"
   ]
  },
  {
   "cell_type": "code",
   "execution_count": 420,
   "id": "edca3b90-8ddb-49c4-84e9-ce534c27b26e",
   "metadata": {},
   "outputs": [
    {
     "name": "stdout",
     "output_type": "stream",
     "text": [
      "22.48148148148148\n"
     ]
    }
   ],
   "source": [
    "get_metric_info(run_id, \"system/gpu_3_utilization_percentage\")"
   ]
  },
  {
   "cell_type": "code",
   "execution_count": 421,
   "id": "a74b5171-6c95-46dd-ac4e-8c847872a19d",
   "metadata": {},
   "outputs": [
    {
     "name": "stdout",
     "output_type": "stream",
     "text": [
      "1332.737037037037\n"
     ]
    }
   ],
   "source": [
    "get_metric_info(run_id, \"system/gpu_3_memory_usage_megabytes\")"
   ]
  },
  {
   "cell_type": "code",
   "execution_count": 422,
   "id": "f59f297b-35b8-41a8-a39e-e66f1708ad28",
   "metadata": {},
   "outputs": [
    {
     "name": "stdout",
     "output_type": "stream",
     "text": [
      "76.72407407407407\n"
     ]
    }
   ],
   "source": [
    "get_metric_info(run_id, \"system/gpu_3_power_usage_watts\")"
   ]
  },
  {
   "cell_type": "markdown",
   "id": "481d74c1-2cc1-4942-9544-168a91efbe8f",
   "metadata": {},
   "source": [
    "##### Gráfica de clasificadores"
   ]
  },
  {
   "cell_type": "code",
   "execution_count": 424,
   "id": "8afd7222-a7d1-41ba-8a2a-be7ed001fc55",
   "metadata": {},
   "outputs": [
    {
     "data": {
      "text/plain": [
       "'278242996031726872'"
      ]
     },
     "execution_count": 424,
     "metadata": {},
     "output_type": "execute_result"
    }
   ],
   "source": [
    "exp_id"
   ]
  },
  {
   "cell_type": "code",
   "execution_count": 425,
   "id": "8bca5fc8-1ccf-4b3f-9c13-f2bfa38398a6",
   "metadata": {},
   "outputs": [],
   "source": [
    "all_runs = client.search_runs(\n",
    "    experiment_ids=[exp_id],\n",
    "    filter_string=f\"tags.mlflow.parentRunId = '{run_id}'\"\n",
    ")"
   ]
  },
  {
   "cell_type": "code",
   "execution_count": 459,
   "id": "a1cdcbfc-1a9b-47ab-93ef-d7936d774565",
   "metadata": {},
   "outputs": [],
   "source": [
    "test_accuracies = [[subrun.info.run_name,\n",
    "                    subrun.data.metrics['test_accuracy'],\n",
    "                    subrun.data.metrics['test_balanced_accuracy']*100] for subrun in all_runs if 'test_accuracy' in subrun.data.metrics]"
   ]
  },
  {
   "cell_type": "code",
   "execution_count": 460,
   "id": "b570a087-aff1-4a14-9fa5-a89823ee05b3",
   "metadata": {},
   "outputs": [
    {
     "data": {
      "text/plain": [
       "[['GunPointOldVersusYoung', 46.15384615384615, 48.837209302325576],\n",
       " ['Beef', 33.33333333333333, 33.33333333333333],\n",
       " ['MiddlePhalanxOutlineCorrect', 62.01117318435754, 50.0],\n",
       " ['GunPoint', 50.0, 50.0],\n",
       " ['SmallKitchenAppliances', 34.66666666666667, 34.66666666666667],\n",
       " ['ToeSegmentation1', 42.592592592592595, 41.620879120879124],\n",
       " ['TwoLeadECG', 53.21888412017167, 53.031977600943115],\n",
       " ['SemgHandSubjectCh2', 13.333333333333334, 13.333333333333334],\n",
       " ['InsectWingbeatSound', 9.318181818181818, 9.318181818181817],\n",
       " ['ShapesAll', 2.9166666666666665, 2.9166666666666665],\n",
       " ['Crop', 3.1875, 3.1875],\n",
       " ['DodgerLoopWeekend', 28.125, 50.0],\n",
       " ['OSULeaf', 12.359550561797752, 14.655067155067156],\n",
       " ['ShapeletSim', 50.0, 50.0],\n",
       " ['EOGHorizontalSignal', 4.827586206896552, 4.700854700854701],\n",
       " ['FordA', 50.76142131979695, 49.8415671647949],\n",
       " ['DiatomSizeReduction', 27.692307692307693, 22.5],\n",
       " ['EthanolLevel', 24.875621890547265, 25.0],\n",
       " ['SonyAIBORobotSurface1', 44.0, 50.0],\n",
       " ['DistalPhalanxOutlineCorrect', 56.81818181818182, 58.006535947712415],\n",
       " ['MiddlePhalanxTW', 22.52252252252252, 16.666666666666664],\n",
       " ['GesturePebbleZ1', 16.39344262295082, 16.666666666666664],\n",
       " ['Lightning2', 56.00000000000001, 58.33333333333333],\n",
       " ['SyntheticControl', 9.166666666666666, 9.166666666666668],\n",
       " ['Worms', 25.0, 21.6017316017316],\n",
       " ['UWaveGestureLibraryX', 17.857142857142858, 17.857142857142854],\n",
       " ['Wafer', 15.422191207257502, 42.87326388888889],\n",
       " ['CricketZ', 7.051282051282051, 7.05128205128205],\n",
       " ['GunPointAgeSpan', 60.43956043956044, 60.2415458937198],\n",
       " ['ECG5000', 4.0, 27.684210526315788],\n",
       " ['CricketX', 8.333333333333332, 8.333333333333332],\n",
       " ['FaceFour', 34.78260869565217, 31.547619047619047],\n",
       " ['FreezerRegularTrain', 66.83333333333333, 66.83333333333333],\n",
       " ['PLAID', 10.232558139534884, 8.182865521575199],\n",
       " ['NonInvasiveFetalECGThorax1', 2.3904382470119523, 2.360066833751044],\n",
       " ['PigAirwayPressure', 4.761904761904762, 4.807692307692308],\n",
       " ['GunPointMaleVersusFemale', 46.15384615384615, 44.23449612403101],\n",
       " ['MoteStrain', 28.235294117647058, 29.156872448348388],\n",
       " ['UMD', 16.666666666666664, 16.666666666666664],\n",
       " ['UWaveGestureLibraryY', 16.183035714285715, 16.183035714285715],\n",
       " ['DodgerLoopDay', 15.625, 17.142857142857142],\n",
       " ['FiftyWords', 2.7624309392265194, 3.0666666666666664],\n",
       " ['Car', 25.0, 25.0],\n",
       " ['Meat', 33.33333333333333, 33.33333333333333],\n",
       " ['ShakeGestureWiimoteZ', 0.0, 0.0]]"
      ]
     },
     "execution_count": 460,
     "metadata": {},
     "output_type": "execute_result"
    }
   ],
   "source": [
    "test_accuracies"
   ]
  },
  {
   "cell_type": "code",
   "execution_count": 461,
   "id": "0749e873-e2a6-43f9-8440-79fbaeb3ead7",
   "metadata": {},
   "outputs": [],
   "source": [
    "run_names = [item[0] for item in test_accuracies]\n",
    "test_accuracy_values = [item[1] for item in test_accuracies]\n",
    "test_balanced_accuracy_values = [item[2] for item in test_accuracies]"
   ]
  },
  {
   "cell_type": "code",
   "execution_count": 474,
   "id": "78ffd00c-4288-4602-8941-bd003eb8291f",
   "metadata": {
    "scrolled": true
   },
   "outputs": [
    {
     "data": {
      "image/png": "[encoded data removed]",
      "text/plain": [
       "<Figure size 864x432 with 1 Axes>"
      ]
     },
     "metadata": {
      "needs_background": "light"
     },
     "output_type": "display_data"
    }
   ],
   "source": [
    "# Número de grupos\n",
    "n_groups = len(run_names)\n",
    "\n",
    "# Crear posiciones para las barras\n",
    "index = np.arange(n_groups)\n",
    "bar_width = 0.35\n",
    "\n",
    "# Crear la figura\n",
    "plt.figure(figsize=(12, 6))\n",
    "\n",
    "# Colores\n",
    "colors = ['#F80044', '#6d8dfa']\n",
    "\n",
    "# Hachuras para las texturas\n",
    "hatch_patterns = ['///|||', '---+++']  # Hachuras diferentes para cada conjunto de barras\n",
    "\n",
    "# Gráfica de barras para test_accuracy\n",
    "plt.bar(index, test_accuracy_values, bar_width, color=colors[0], label='Exactitud')\n",
    "\n",
    "# Gráfica de barras para test_balanced_accuracy\n",
    "plt.bar(index + bar_width, test_balanced_accuracy_values, bar_width, color=colors[1], label='Exactiud balanceada')\n",
    "\n",
    "# Configuración de las etiquetas y título\n",
    "plt.xlabel('Conjunto de datos')\n",
    "plt.ylabel('Exactitud')\n",
    "plt.title('Exactitud y exactitud balanceada por conjunto de datos')\n",
    "plt.xticks(index + bar_width / 2, run_names, rotation=45, ha='right')\n",
    "\n",
    "# Añadir la leyenda\n",
    "plt.legend()\n",
    "\n",
    "plt.grid(True, which='both', linestyle='--', linewidth=0.5)\n",
    "\n",
    "plt.savefig(\"exactitud-exp1.png\", format='png', dpi=300, bbox_inches='tight')\n",
    "\n",
    "# Mostrar la gráfica\n",
    "plt.tight_layout()\n",
    "plt.show()"
   ]
  },
  {
   "cell_type": "code",
   "execution_count": null,
   "id": "aeef8538-d5cc-4614-9df9-943b554c813c",
   "metadata": {},
   "outputs": [],
   "source": []
  },
  {
   "cell_type": "code",
   "execution_count": null,
   "id": "4a759754-efa0-4478-b8f7-cc6f04d61841",
   "metadata": {},
   "outputs": [],
   "source": []
  },
  {
   "cell_type": "markdown",
   "id": "45d9e586-7ae1-4a7f-bec0-c3093caf3d8f",
   "metadata": {},
   "source": [
    "## Experimento 3"
   ]
  },
  {
   "cell_type": "markdown",
   "id": "ed3c31ef-4e82-478c-b754-900091905351",
   "metadata": {},
   "source": [
    "#### Pre-entrenamiento"
   ]
  },
  {
   "cell_type": "code",
   "execution_count": 557,
   "id": "cdc5c410-fb15-4175-a2a2-1aab5118f97b",
   "metadata": {},
   "outputs": [],
   "source": [
    "experiment = mlflow.get_experiment_by_name(\"Pre-train\")"
   ]
  },
  {
   "cell_type": "code",
   "execution_count": 558,
   "id": "b17e4bc8-e476-47bb-adc2-0032584e5437",
   "metadata": {},
   "outputs": [],
   "source": [
    "runs = mlflow.search_runs(experiment_ids=[experiment.experiment_id])"
   ]
  },
  {
   "cell_type": "code",
   "execution_count": 559,
   "id": "feed97d0-7159-48d7-b083-d3dd7ee26982",
   "metadata": {},
   "outputs": [],
   "source": [
    "exp= runs[runs[\"tags.mlflow.runName\"] == \"masked-turtle-959\"]"
   ]
  },
  {
   "cell_type": "code",
   "execution_count": 560,
   "id": "5c7bd39b-05b7-4a3c-808e-09a1e5d54352",
   "metadata": {},
   "outputs": [
    {
     "data": {
      "text/html": [
       "<div>\n",
       "<style scoped>\n",
       "    .dataframe tbody tr th:only-of-type {\n",
       "        vertical-align: middle;\n",
       "    }\n",
       "\n",
       "    .dataframe tbody tr th {\n",
       "        vertical-align: top;\n",
       "    }\n",
       "\n",
       "    .dataframe thead th {\n",
       "        text-align: right;\n",
       "    }\n",
       "</style>\n",
       "<table border=\"1\" class=\"dataframe\">\n",
       "  <thead>\n",
       "    <tr style=\"text-align: right;\">\n",
       "      <th></th>\n",
       "      <th>run_id</th>\n",
       "      <th>experiment_id</th>\n",
       "      <th>status</th>\n",
       "      <th>artifact_uri</th>\n",
       "      <th>start_time</th>\n",
       "      <th>end_time</th>\n",
       "      <th>metrics.system/gpu_2_power_usage_watts</th>\n",
       "      <th>metrics.system/gpu_2_utilization_percentage</th>\n",
       "      <th>metrics.system/gpu_3_utilization_percentage</th>\n",
       "      <th>metrics.system/gpu_3_memory_usage_percentage</th>\n",
       "      <th>...</th>\n",
       "      <th>params.aditional_loss_function</th>\n",
       "      <th>params.valid_frac</th>\n",
       "      <th>params.train_frac</th>\n",
       "      <th>tags.mlflow.user</th>\n",
       "      <th>tags.mlflow.source.type</th>\n",
       "      <th>tags.mlflow.runName</th>\n",
       "      <th>tags.mlflow.log-model.history</th>\n",
       "      <th>tags.mlflow.note.content</th>\n",
       "      <th>tags.mlflow.source.name</th>\n",
       "      <th>tags.mlflow.source.git.commit</th>\n",
       "    </tr>\n",
       "  </thead>\n",
       "  <tbody>\n",
       "    <tr>\n",
       "      <th>3</th>\n",
       "      <td>d5cbf6b2fb0f435da0f5c2bd1b991acc</td>\n",
       "      <td>489730860219751947</td>\n",
       "      <td>FINISHED</td>\n",
       "      <td>file:///opt/code/mlruns/489730860219751947/d5c...</td>\n",
       "      <td>2024-08-24 19:16:36.766000+00:00</td>\n",
       "      <td>2024-08-25 11:25:34.258000+00:00</td>\n",
       "      <td>144.4</td>\n",
       "      <td>95.0</td>\n",
       "      <td>96.0</td>\n",
       "      <td>30.7</td>\n",
       "      <td>...</td>\n",
       "      <td>None</td>\n",
       "      <td>None</td>\n",
       "      <td>None</td>\n",
       "      <td>root</td>\n",
       "      <td>LOCAL</td>\n",
       "      <td>masked-turtle-959</td>\n",
       "      <td>[{\"run_id\": \"d5cbf6b2fb0f435da0f5c2bd1b991acc\"...</td>\n",
       "      <td>Cambio de parámetro para que ahora en las capa...</td>\n",
       "      <td>timert_cli.py</td>\n",
       "      <td>42daa673aa99fe7670284fed358788d46c2d2912</td>\n",
       "    </tr>\n",
       "  </tbody>\n",
       "</table>\n",
       "<p>1 rows × 81 columns</p>\n",
       "</div>"
      ],
      "text/plain": [
       "                             run_id       experiment_id    status  \\\n",
       "3  d5cbf6b2fb0f435da0f5c2bd1b991acc  489730860219751947  FINISHED   \n",
       "\n",
       "                                        artifact_uri  \\\n",
       "3  file:///opt/code/mlruns/489730860219751947/d5c...   \n",
       "\n",
       "                        start_time                         end_time  \\\n",
       "3 2024-08-24 19:16:36.766000+00:00 2024-08-25 11:25:34.258000+00:00   \n",
       "\n",
       "   metrics.system/gpu_2_power_usage_watts  \\\n",
       "3                                   144.4   \n",
       "\n",
       "   metrics.system/gpu_2_utilization_percentage  \\\n",
       "3                                         95.0   \n",
       "\n",
       "   metrics.system/gpu_3_utilization_percentage  \\\n",
       "3                                         96.0   \n",
       "\n",
       "   metrics.system/gpu_3_memory_usage_percentage  ...  \\\n",
       "3                                          30.7  ...   \n",
       "\n",
       "   params.aditional_loss_function  params.valid_frac  params.train_frac  \\\n",
       "3                            None               None               None   \n",
       "\n",
       "   tags.mlflow.user  tags.mlflow.source.type  tags.mlflow.runName  \\\n",
       "3              root                    LOCAL    masked-turtle-959   \n",
       "\n",
       "                       tags.mlflow.log-model.history  \\\n",
       "3  [{\"run_id\": \"d5cbf6b2fb0f435da0f5c2bd1b991acc\"...   \n",
       "\n",
       "                            tags.mlflow.note.content  tags.mlflow.source.name  \\\n",
       "3  Cambio de parámetro para que ahora en las capa...            timert_cli.py   \n",
       "\n",
       "              tags.mlflow.source.git.commit  \n",
       "3  42daa673aa99fe7670284fed358788d46c2d2912  \n",
       "\n",
       "[1 rows x 81 columns]"
      ]
     },
     "execution_count": 560,
     "metadata": {},
     "output_type": "execute_result"
    }
   ],
   "source": [
    "exp"
   ]
  },
  {
   "cell_type": "code",
   "execution_count": 561,
   "id": "5241bff6-cac2-41d7-8781-31bbed3f7dea",
   "metadata": {},
   "outputs": [],
   "source": [
    "run_id = exp.iloc[0].run_id"
   ]
  },
  {
   "cell_type": "markdown",
   "id": "b9400f3c-0c7b-4f9d-be57-5c3cdb5366de",
   "metadata": {},
   "source": [
    "#### Obtener conjuntos de métricas"
   ]
  },
  {
   "cell_type": "code",
   "execution_count": 562,
   "id": "f026944e-2e85-44fb-864b-b4d771c07802",
   "metadata": {},
   "outputs": [
    {
     "name": "stdout",
     "output_type": "stream",
     "text": [
      "00:02:25\n"
     ]
    }
   ],
   "source": [
    "get_metric_info(run_id, \"epoch_time\", y_type=\"time\")"
   ]
  },
  {
   "cell_type": "code",
   "execution_count": 563,
   "id": "7cccc5f9-548b-4eb3-9dd7-f380bf969321",
   "metadata": {},
   "outputs": [
    {
     "name": "stdout",
     "output_type": "stream",
     "text": [
      "15.345833333333333\n"
     ]
    }
   ],
   "source": [
    "get_metric_info(run_id, \"system/cpu_utilization_percentage\")"
   ]
  },
  {
   "cell_type": "code",
   "execution_count": 564,
   "id": "b960bdc0-3f8e-4e7a-8cc7-f7f0fa37d952",
   "metadata": {},
   "outputs": [
    {
     "name": "stdout",
     "output_type": "stream",
     "text": [
      "9795.914583333335\n"
     ]
    }
   ],
   "source": [
    "get_metric_info(run_id, \"system/system_memory_usage_megabytes\")"
   ]
  },
  {
   "cell_type": "code",
   "execution_count": 565,
   "id": "b9e67858-ad53-4f0a-9bee-602df17552a8",
   "metadata": {},
   "outputs": [
    {
     "name": "stdout",
     "output_type": "stream",
     "text": [
      "62.645833333333336\n"
     ]
    }
   ],
   "source": [
    "get_metric_info(run_id, \"system/gpu_2_utilization_percentage\")"
   ]
  },
  {
   "cell_type": "code",
   "execution_count": 566,
   "id": "35803abd-85b1-49df-93d7-8571b24579a4",
   "metadata": {},
   "outputs": [
    {
     "name": "stdout",
     "output_type": "stream",
     "text": [
      "3545.798958333331\n"
     ]
    }
   ],
   "source": [
    "get_metric_info(run_id, \"system/gpu_2_memory_usage_megabytes\")"
   ]
  },
  {
   "cell_type": "code",
   "execution_count": 567,
   "id": "b1a5a201-c528-423f-bd5c-92d1992a9890",
   "metadata": {},
   "outputs": [
    {
     "name": "stdout",
     "output_type": "stream",
     "text": [
      "116.11458333333336\n"
     ]
    }
   ],
   "source": [
    "get_metric_info(run_id, \"system/gpu_2_power_usage_watts\")"
   ]
  },
  {
   "cell_type": "code",
   "execution_count": null,
   "id": "bf7bbf46-553b-4918-9095-de4e8c12c2f2",
   "metadata": {},
   "outputs": [],
   "source": []
  },
  {
   "cell_type": "code",
   "execution_count": 545,
   "id": "67cfdd6f-6813-4b61-a765-d693e77d3177",
   "metadata": {},
   "outputs": [
    {
     "data": {
      "image/png": "[encoded data removed]",
      "text/plain": [
       "<Figure size 720x360 with 1 Axes>"
      ]
     },
     "metadata": {
      "needs_background": "light"
     },
     "output_type": "display_data"
    }
   ],
   "source": [
    "plot_metric(run_id, \"average_loss\", \"Época\", \"Pérdida promedio\", \"Pérdida promedio por época\", \"loos_train_exp3.png\")"
   ]
  },
  {
   "cell_type": "markdown",
   "id": "91b624e1-9992-4360-9d49-177f6587d504",
   "metadata": {},
   "source": [
    "#### Ajuste fino"
   ]
  },
  {
   "cell_type": "code",
   "execution_count": 568,
   "id": "22d8879e-41f6-4c3b-94ce-5d7fbddc6be7",
   "metadata": {},
   "outputs": [],
   "source": [
    "experiment = mlflow.get_experiment_by_name(\"Fine-tuning\")"
   ]
  },
  {
   "cell_type": "code",
   "execution_count": 569,
   "id": "3a45a39b-3771-48ea-8472-bf021bc8ba4d",
   "metadata": {},
   "outputs": [],
   "source": [
    "runs = mlflow.search_runs(experiment_ids=[experiment.experiment_id])"
   ]
  },
  {
   "cell_type": "code",
   "execution_count": 570,
   "id": "59547fdc-57f1-4511-8324-7bde63affde6",
   "metadata": {},
   "outputs": [],
   "source": [
    "exp = runs[runs[\"tags.mlflow.runName\"] ==  \"traveling-dog-615\"]"
   ]
  },
  {
   "cell_type": "code",
   "execution_count": 571,
   "id": "e519ed9e-1cb0-44d5-affb-6ade9a6f2d46",
   "metadata": {},
   "outputs": [
    {
     "data": {
      "text/html": [
       "<div>\n",
       "<style scoped>\n",
       "    .dataframe tbody tr th:only-of-type {\n",
       "        vertical-align: middle;\n",
       "    }\n",
       "\n",
       "    .dataframe tbody tr th {\n",
       "        vertical-align: top;\n",
       "    }\n",
       "\n",
       "    .dataframe thead th {\n",
       "        text-align: right;\n",
       "    }\n",
       "</style>\n",
       "<table border=\"1\" class=\"dataframe\">\n",
       "  <thead>\n",
       "    <tr style=\"text-align: right;\">\n",
       "      <th></th>\n",
       "      <th>run_id</th>\n",
       "      <th>experiment_id</th>\n",
       "      <th>status</th>\n",
       "      <th>artifact_uri</th>\n",
       "      <th>start_time</th>\n",
       "      <th>end_time</th>\n",
       "      <th>metrics.system/gpu_2_power_usage_watts</th>\n",
       "      <th>metrics.system/gpu_2_utilization_percentage</th>\n",
       "      <th>metrics.system/gpu_3_utilization_percentage</th>\n",
       "      <th>metrics.system/gpu_3_memory_usage_percentage</th>\n",
       "      <th>...</th>\n",
       "      <th>tags.mlflow.user</th>\n",
       "      <th>tags.mlflow.source.type</th>\n",
       "      <th>tags.mlflow.runName</th>\n",
       "      <th>tags.mlflow.source.name</th>\n",
       "      <th>tags.mlflow.parentRunId</th>\n",
       "      <th>tags.mlflow.source.git.commit</th>\n",
       "      <th>tags.pretrain_run_id</th>\n",
       "      <th>tags.mlflow.note.content</th>\n",
       "      <th>tags.pretrain_run_name</th>\n",
       "      <th>tags.pretrain</th>\n",
       "    </tr>\n",
       "  </thead>\n",
       "  <tbody>\n",
       "    <tr>\n",
       "      <th>284</th>\n",
       "      <td>8976c43d0e764229a36960c40d9bacf4</td>\n",
       "      <td>278242996031726872</td>\n",
       "      <td>FINISHED</td>\n",
       "      <td>file:///opt/code/mlruns/278242996031726872/897...</td>\n",
       "      <td>2024-08-25 18:32:56.233000+00:00</td>\n",
       "      <td>2024-08-26 05:55:51.239000+00:00</td>\n",
       "      <td>8.6</td>\n",
       "      <td>0.0</td>\n",
       "      <td>0.0</td>\n",
       "      <td>0.0</td>\n",
       "      <td>...</td>\n",
       "      <td>root</td>\n",
       "      <td>LOCAL</td>\n",
       "      <td>traveling-dog-615</td>\n",
       "      <td>timert_cli.py</td>\n",
       "      <td>None</td>\n",
       "      <td>082154634b0f7a6f5b922eae1fbb1d49b208a9b2</td>\n",
       "      <td>d5cbf6b2fb0f435da0f5c2bd1b991acc</td>\n",
       "      <td>None</td>\n",
       "      <td>masked-turtle-959</td>\n",
       "      <td>None</td>\n",
       "    </tr>\n",
       "  </tbody>\n",
       "</table>\n",
       "<p>1 rows × 286 columns</p>\n",
       "</div>"
      ],
      "text/plain": [
       "                               run_id       experiment_id    status  \\\n",
       "284  8976c43d0e764229a36960c40d9bacf4  278242996031726872  FINISHED   \n",
       "\n",
       "                                          artifact_uri  \\\n",
       "284  file:///opt/code/mlruns/278242996031726872/897...   \n",
       "\n",
       "                          start_time                         end_time  \\\n",
       "284 2024-08-25 18:32:56.233000+00:00 2024-08-26 05:55:51.239000+00:00   \n",
       "\n",
       "     metrics.system/gpu_2_power_usage_watts  \\\n",
       "284                                     8.6   \n",
       "\n",
       "     metrics.system/gpu_2_utilization_percentage  \\\n",
       "284                                          0.0   \n",
       "\n",
       "     metrics.system/gpu_3_utilization_percentage  \\\n",
       "284                                          0.0   \n",
       "\n",
       "     metrics.system/gpu_3_memory_usage_percentage  ...  tags.mlflow.user  \\\n",
       "284                                           0.0  ...              root   \n",
       "\n",
       "     tags.mlflow.source.type  tags.mlflow.runName  tags.mlflow.source.name  \\\n",
       "284                    LOCAL    traveling-dog-615            timert_cli.py   \n",
       "\n",
       "     tags.mlflow.parentRunId             tags.mlflow.source.git.commit  \\\n",
       "284                     None  082154634b0f7a6f5b922eae1fbb1d49b208a9b2   \n",
       "\n",
       "                 tags.pretrain_run_id  tags.mlflow.note.content  \\\n",
       "284  d5cbf6b2fb0f435da0f5c2bd1b991acc                      None   \n",
       "\n",
       "     tags.pretrain_run_name  tags.pretrain  \n",
       "284       masked-turtle-959           None  \n",
       "\n",
       "[1 rows x 286 columns]"
      ]
     },
     "execution_count": 571,
     "metadata": {},
     "output_type": "execute_result"
    }
   ],
   "source": [
    "exp"
   ]
  },
  {
   "cell_type": "code",
   "execution_count": 572,
   "id": "e4aef948-69db-4a1d-9692-0f00f5173d26",
   "metadata": {},
   "outputs": [],
   "source": [
    "run_id = exp.iloc[0].run_id"
   ]
  },
  {
   "cell_type": "code",
   "execution_count": 573,
   "id": "c3fc66af-3994-4e0e-a73a-d718f3272994",
   "metadata": {},
   "outputs": [],
   "source": [
    "exp_id = exp.iloc[0].experiment_id"
   ]
  },
  {
   "cell_type": "code",
   "execution_count": 574,
   "id": "a0826268-172c-43d3-a861-6ad705d6ed98",
   "metadata": {},
   "outputs": [
    {
     "name": "stdout",
     "output_type": "stream",
     "text": [
      "9.911111111111111\n"
     ]
    }
   ],
   "source": [
    "get_metric_info(run_id, \"system/cpu_utilization_percentage\")"
   ]
  },
  {
   "cell_type": "code",
   "execution_count": 575,
   "id": "2e5bdf11-1cdd-494a-9865-3b9dbfb0b94f",
   "metadata": {},
   "outputs": [
    {
     "name": "stdout",
     "output_type": "stream",
     "text": [
      "8469.196296296299\n"
     ]
    }
   ],
   "source": [
    "get_metric_info(run_id, \"system/system_memory_usage_megabytes\")"
   ]
  },
  {
   "cell_type": "code",
   "execution_count": 576,
   "id": "8c8461f3-0447-4d99-9720-c5e1b9efd0d0",
   "metadata": {},
   "outputs": [
    {
     "name": "stdout",
     "output_type": "stream",
     "text": [
      "45.65432098765432\n"
     ]
    }
   ],
   "source": [
    "get_metric_info(run_id, \"system/gpu_2_utilization_percentage\")"
   ]
  },
  {
   "cell_type": "code",
   "execution_count": 577,
   "id": "281aae7b-78ad-45e6-b782-ba13753c006a",
   "metadata": {},
   "outputs": [
    {
     "name": "stdout",
     "output_type": "stream",
     "text": [
      "2949.2444444444445\n"
     ]
    }
   ],
   "source": [
    "get_metric_info(run_id, \"system/gpu_2_memory_usage_megabytes\")"
   ]
  },
  {
   "cell_type": "code",
   "execution_count": 578,
   "id": "d10b2a5d-9c99-49b2-b586-2838a60cbe15",
   "metadata": {},
   "outputs": [
    {
     "name": "stdout",
     "output_type": "stream",
     "text": [
      "97.24567901234566\n"
     ]
    }
   ],
   "source": [
    "get_metric_info(run_id, \"system/gpu_2_power_usage_watts\")"
   ]
  },
  {
   "cell_type": "markdown",
   "id": "b51a7063-8ce7-41e5-8717-5e7bb79c21f4",
   "metadata": {},
   "source": [
    "##### Gráfica de clasificadores"
   ]
  },
  {
   "cell_type": "code",
   "execution_count": 579,
   "id": "45f7fd39-3979-4232-84cd-b4de4b14946a",
   "metadata": {},
   "outputs": [
    {
     "data": {
      "text/plain": [
       "'278242996031726872'"
      ]
     },
     "execution_count": 579,
     "metadata": {},
     "output_type": "execute_result"
    }
   ],
   "source": [
    "exp_id"
   ]
  },
  {
   "cell_type": "code",
   "execution_count": 580,
   "id": "2c7b5434-dcc0-48d5-9bf2-8a53120e0ea2",
   "metadata": {},
   "outputs": [],
   "source": [
    "all_runs = client.search_runs(\n",
    "    experiment_ids=[exp_id],\n",
    "    filter_string=f\"tags.mlflow.parentRunId = '{run_id}'\"\n",
    ")"
   ]
  },
  {
   "cell_type": "code",
   "execution_count": 581,
   "id": "7a4c24e5-faf4-4cf9-a244-8b71139bdaff",
   "metadata": {},
   "outputs": [],
   "source": [
    "test_accuracies = [[subrun.info.run_name,\n",
    "                    subrun.data.metrics['test_accuracy'],\n",
    "                    subrun.data.metrics['test_balanced_accuracy']*100] for subrun in all_runs if 'test_accuracy' in subrun.data.metrics]"
   ]
  },
  {
   "cell_type": "code",
   "execution_count": 582,
   "id": "6421a23a-5fc6-48d2-9bc1-e505b8360f26",
   "metadata": {},
   "outputs": [
    {
     "data": {
      "text/plain": [
       "[['GunPointOldVersusYoung', 93.4065934065934, 93.14437984496125],\n",
       " ['Beef', 83.33333333333334, 80.0],\n",
       " ['MiddlePhalanxOutlineCorrect', 84.91620111731844, 82.9954954954955],\n",
       " ['GunPoint', 97.5, 97.5],\n",
       " ['SmallKitchenAppliances', 69.33333333333334, 69.33333333333334],\n",
       " ['ToeSegmentation1', 75.92592592592592, 75.68681318681318],\n",
       " ['TwoLeadECG', 100.0, 100.0],\n",
       " ['SemgHandSubjectCh2', 91.66666666666666, 91.66666666666667],\n",
       " ['InsectWingbeatSound', 61.36363636363637, 61.36363636363637],\n",
       " ['ShapesAll', 75.0, 75.0],\n",
       " ['Crop', 74.79166666666667, 74.79166666666667],\n",
       " ['DodgerLoopWeekend', 100.0, 100.0],\n",
       " ['OSULeaf', 62.92134831460674, 61.043058248940596],\n",
       " ['ShapeletSim', 55.00000000000001, 55.00000000000001],\n",
       " ['EOGHorizontalSignal', 71.72413793103448, 71.5811965811966],\n",
       " ['FordA', 73.90862944162436, 73.81938656786619],\n",
       " ['DiatomSizeReduction', 100.0, 100.0],\n",
       " ['EthanolLevel', 54.72636815920397, 54.58823529411765],\n",
       " ['SonyAIBORobotSurface1', 97.6, 97.27272727272727],\n",
       " ['DistalPhalanxOutlineCorrect', 83.52272727272727, 82.76143790849673],\n",
       " ['MiddlePhalanxTW', 54.054054054054056, 37.133053221288506],\n",
       " ['GesturePebbleZ1', 90.1639344262295, 90.45454545454547],\n",
       " ['Lightning2', 80.0, 76.66666666666666],\n",
       " ['SyntheticControl', 97.5, 97.5],\n",
       " ['Worms', 42.30769230769231, 32.74747474747475],\n",
       " ['UWaveGestureLibraryX', 78.79464285714286, 78.79464285714286],\n",
       " ['Wafer', 100.0, 100.0],\n",
       " ['CricketZ', 73.71794871794873, 73.71794871794873],\n",
       " ['GunPointAgeSpan', 95.6043956043956, 95.57971014492755],\n",
       " ['ECG5000', 94.6, 64.57225284013377],\n",
       " ['CricketX', 72.43589743589743, 72.43589743589743],\n",
       " ['FaceFour', 95.65217391304348, 95.83333333333334],\n",
       " ['FreezerRegularTrain', 99.83333333333333, 99.83333333333333],\n",
       " ['PLAID', 73.0232558139535, 73.29003044641193],\n",
       " ['NonInvasiveFetalECGThorax1', 88.97742363877822, 88.83687978115223],\n",
       " ['PigAirwayPressure', 6.349206349206349, 7.6923076923076925],\n",
       " ['GunPointMaleVersusFemale', 100.0, 100.0],\n",
       " ['MoteStrain', 95.29411764705881, 95.15031547692688],\n",
       " ['UMD', 97.22222222222221, 97.22222222222221],\n",
       " ['UWaveGestureLibraryY', 75.22321428571429, 75.22321428571428],\n",
       " ['DodgerLoopDay', 53.125, 52.142857142857146],\n",
       " ['FiftyWords', 65.19337016574586, 49.91082251082251],\n",
       " ['Car', 75.0, 75.0],\n",
       " ['Meat', 79.16666666666666, 79.16666666666666],\n",
       " ['ShakeGestureWiimoteZ', 55.00000000000001, 55.00000000000001]]"
      ]
     },
     "execution_count": 582,
     "metadata": {},
     "output_type": "execute_result"
    }
   ],
   "source": [
    "test_accuracies"
   ]
  },
  {
   "cell_type": "code",
   "execution_count": 583,
   "id": "f96aa511-31c7-4e66-9b87-7addd1d31e38",
   "metadata": {},
   "outputs": [],
   "source": [
    "run_names = [item[0] for item in test_accuracies]\n",
    "test_accuracy_values = [item[1] for item in test_accuracies]\n",
    "test_balanced_accuracy_values = [item[2] for item in test_accuracies]"
   ]
  },
  {
   "cell_type": "code",
   "execution_count": 585,
   "id": "9460f3ba-f42a-48a8-be91-771e83c3da45",
   "metadata": {},
   "outputs": [
    {
     "data": {
      "image/png": "[encoded data removed]",
      "text/plain": [
       "<Figure size 864x432 with 1 Axes>"
      ]
     },
     "metadata": {
      "needs_background": "light"
     },
     "output_type": "display_data"
    }
   ],
   "source": [
    "# Número de grupos\n",
    "n_groups = len(run_names)\n",
    "\n",
    "# Crear posiciones para las barras\n",
    "index = np.arange(n_groups)\n",
    "bar_width = 0.35\n",
    "\n",
    "# Crear la figura\n",
    "plt.figure(figsize=(12, 6))\n",
    "\n",
    "# Colores\n",
    "colors = ['#F80044', '#6d8dfa']\n",
    "\n",
    "# Hachuras para las texturas\n",
    "hatch_patterns = ['///|||', '---+++']  # Hachuras diferentes para cada conjunto de barras\n",
    "\n",
    "# Gráfica de barras para test_accuracy\n",
    "plt.bar(index, test_accuracy_values, bar_width, color=colors[0], label='Exactitud')\n",
    "\n",
    "# Gráfica de barras para test_balanced_accuracy\n",
    "plt.bar(index + bar_width, test_balanced_accuracy_values, bar_width, color=colors[1], label='Exactiud balanceada')\n",
    "\n",
    "# Configuración de las etiquetas y título\n",
    "plt.xlabel('Conjunto de datos')\n",
    "plt.ylabel('Exactitud')\n",
    "plt.title('Exactitud y exactitud balanceada por conjunto de datos')\n",
    "plt.xticks(index + bar_width / 2, run_names, rotation=45, ha='right')\n",
    "\n",
    "# Añadir la leyenda\n",
    "plt.legend()\n",
    "\n",
    "plt.grid(True, which='both', linestyle='--', linewidth=0.5)\n",
    "\n",
    "plt.savefig(\"exactitud-exp3.png\", format='png', dpi=300, bbox_inches='tight')\n",
    "\n",
    "# Mostrar la gráfica\n",
    "plt.tight_layout()\n",
    "plt.show()"
   ]
  },
  {
   "cell_type": "code",
   "execution_count": null,
   "id": "8566b270-a72d-4b74-b8db-f2fd343a9c1b",
   "metadata": {},
   "outputs": [],
   "source": []
  },
  {
   "cell_type": "code",
   "execution_count": null,
   "id": "73b54175-0d9a-443a-968b-453f90149ab4",
   "metadata": {},
   "outputs": [],
   "source": []
  },
  {
   "cell_type": "code",
   "execution_count": null,
   "id": "0bbfb392-c9c8-414b-91f8-fe369a4c9aa6",
   "metadata": {},
   "outputs": [],
   "source": []
  },
  {
   "cell_type": "markdown",
   "id": "c7f9dde0-559a-4422-9892-b5a69c11a919",
   "metadata": {},
   "source": [
    "## Experimento 4"
   ]
  },
  {
   "cell_type": "markdown",
   "id": "7064e14d-bd66-4b77-8d1c-d6b6ad7af8be",
   "metadata": {},
   "source": [
    "#### Pre-entrenamiento"
   ]
  },
  {
   "cell_type": "code",
   "execution_count": 501,
   "id": "b23c3002-9596-4e6b-aa2b-d8c6a4f47eea",
   "metadata": {},
   "outputs": [],
   "source": [
    "experiment = mlflow.get_experiment_by_name(\"Pre-train\")"
   ]
  },
  {
   "cell_type": "code",
   "execution_count": 502,
   "id": "283f3064-036e-4106-8d4c-963cc480cc0c",
   "metadata": {},
   "outputs": [],
   "source": [
    "runs = mlflow.search_runs(experiment_ids=[experiment.experiment_id])"
   ]
  },
  {
   "cell_type": "code",
   "execution_count": 503,
   "id": "3ff37127-122c-4d20-8b6d-e045855740ee",
   "metadata": {},
   "outputs": [],
   "source": [
    "exp= runs[runs[\"tags.mlflow.runName\"] == \"masked-bird-8\"]"
   ]
  },
  {
   "cell_type": "code",
   "execution_count": 504,
   "id": "0d9ae1d6-6423-4e9b-8eb4-a33010d6749b",
   "metadata": {},
   "outputs": [
    {
     "data": {
      "text/html": [
       "<div>\n",
       "<style scoped>\n",
       "    .dataframe tbody tr th:only-of-type {\n",
       "        vertical-align: middle;\n",
       "    }\n",
       "\n",
       "    .dataframe tbody tr th {\n",
       "        vertical-align: top;\n",
       "    }\n",
       "\n",
       "    .dataframe thead th {\n",
       "        text-align: right;\n",
       "    }\n",
       "</style>\n",
       "<table border=\"1\" class=\"dataframe\">\n",
       "  <thead>\n",
       "    <tr style=\"text-align: right;\">\n",
       "      <th></th>\n",
       "      <th>run_id</th>\n",
       "      <th>experiment_id</th>\n",
       "      <th>status</th>\n",
       "      <th>artifact_uri</th>\n",
       "      <th>start_time</th>\n",
       "      <th>end_time</th>\n",
       "      <th>metrics.system/gpu_2_power_usage_watts</th>\n",
       "      <th>metrics.system/gpu_2_utilization_percentage</th>\n",
       "      <th>metrics.system/gpu_3_utilization_percentage</th>\n",
       "      <th>metrics.system/gpu_3_memory_usage_percentage</th>\n",
       "      <th>...</th>\n",
       "      <th>params.aditional_loss_function</th>\n",
       "      <th>params.valid_frac</th>\n",
       "      <th>params.train_frac</th>\n",
       "      <th>tags.mlflow.user</th>\n",
       "      <th>tags.mlflow.source.type</th>\n",
       "      <th>tags.mlflow.runName</th>\n",
       "      <th>tags.mlflow.log-model.history</th>\n",
       "      <th>tags.mlflow.note.content</th>\n",
       "      <th>tags.mlflow.source.name</th>\n",
       "      <th>tags.mlflow.source.git.commit</th>\n",
       "    </tr>\n",
       "  </thead>\n",
       "  <tbody>\n",
       "    <tr>\n",
       "      <th>4</th>\n",
       "      <td>880b7adc9a244f31949f09a57d597f53</td>\n",
       "      <td>489730860219751947</td>\n",
       "      <td>FINISHED</td>\n",
       "      <td>file:///opt/code/mlruns/489730860219751947/880...</td>\n",
       "      <td>2024-08-24 19:13:58.374000+00:00</td>\n",
       "      <td>2024-08-25 11:33:14.662000+00:00</td>\n",
       "      <td>147.1</td>\n",
       "      <td>95.0</td>\n",
       "      <td>95.0</td>\n",
       "      <td>30.7</td>\n",
       "      <td>...</td>\n",
       "      <td>None</td>\n",
       "      <td>None</td>\n",
       "      <td>None</td>\n",
       "      <td>root</td>\n",
       "      <td>LOCAL</td>\n",
       "      <td>masked-bird-8</td>\n",
       "      <td>[{\"run_id\": \"880b7adc9a244f31949f09a57d597f53\"...</td>\n",
       "      <td>nueva mejora. el codificador posicional ahora ...</td>\n",
       "      <td>timert_cli.py</td>\n",
       "      <td>42daa673aa99fe7670284fed358788d46c2d2912</td>\n",
       "    </tr>\n",
       "  </tbody>\n",
       "</table>\n",
       "<p>1 rows × 81 columns</p>\n",
       "</div>"
      ],
      "text/plain": [
       "                             run_id       experiment_id    status  \\\n",
       "4  880b7adc9a244f31949f09a57d597f53  489730860219751947  FINISHED   \n",
       "\n",
       "                                        artifact_uri  \\\n",
       "4  file:///opt/code/mlruns/489730860219751947/880...   \n",
       "\n",
       "                        start_time                         end_time  \\\n",
       "4 2024-08-24 19:13:58.374000+00:00 2024-08-25 11:33:14.662000+00:00   \n",
       "\n",
       "   metrics.system/gpu_2_power_usage_watts  \\\n",
       "4                                   147.1   \n",
       "\n",
       "   metrics.system/gpu_2_utilization_percentage  \\\n",
       "4                                         95.0   \n",
       "\n",
       "   metrics.system/gpu_3_utilization_percentage  \\\n",
       "4                                         95.0   \n",
       "\n",
       "   metrics.system/gpu_3_memory_usage_percentage  ...  \\\n",
       "4                                          30.7  ...   \n",
       "\n",
       "   params.aditional_loss_function  params.valid_frac  params.train_frac  \\\n",
       "4                            None               None               None   \n",
       "\n",
       "   tags.mlflow.user  tags.mlflow.source.type  tags.mlflow.runName  \\\n",
       "4              root                    LOCAL        masked-bird-8   \n",
       "\n",
       "                       tags.mlflow.log-model.history  \\\n",
       "4  [{\"run_id\": \"880b7adc9a244f31949f09a57d597f53\"...   \n",
       "\n",
       "                            tags.mlflow.note.content  tags.mlflow.source.name  \\\n",
       "4  nueva mejora. el codificador posicional ahora ...            timert_cli.py   \n",
       "\n",
       "              tags.mlflow.source.git.commit  \n",
       "4  42daa673aa99fe7670284fed358788d46c2d2912  \n",
       "\n",
       "[1 rows x 81 columns]"
      ]
     },
     "execution_count": 504,
     "metadata": {},
     "output_type": "execute_result"
    }
   ],
   "source": [
    "exp"
   ]
  },
  {
   "cell_type": "code",
   "execution_count": 505,
   "id": "a2e8a652-0c80-405e-9afe-4c87edefc996",
   "metadata": {},
   "outputs": [],
   "source": [
    "run_id = exp.iloc[0].run_id"
   ]
  },
  {
   "cell_type": "markdown",
   "id": "ae6fa82e-a5f0-47af-a571-fbe7e79690a2",
   "metadata": {},
   "source": [
    "#### Obtener conjuntos de métricas"
   ]
  },
  {
   "cell_type": "code",
   "execution_count": 506,
   "id": "99b52215-ba41-4a6f-8ca9-2ab692f835fa",
   "metadata": {},
   "outputs": [
    {
     "name": "stdout",
     "output_type": "stream",
     "text": [
      "00:02:27\n"
     ]
    }
   ],
   "source": [
    "get_metric_info(run_id, \"epoch_time\", y_type=\"time\")"
   ]
  },
  {
   "cell_type": "code",
   "execution_count": 507,
   "id": "067b2007-f64a-41e2-8860-49191d4caba4",
   "metadata": {},
   "outputs": [
    {
     "name": "stdout",
     "output_type": "stream",
     "text": [
      "15.29175257731959\n"
     ]
    }
   ],
   "source": [
    "get_metric_info(run_id, \"system/cpu_utilization_percentage\")"
   ]
  },
  {
   "cell_type": "code",
   "execution_count": 508,
   "id": "fe9c023f-0822-4d81-b375-a20cfe607bf2",
   "metadata": {},
   "outputs": [
    {
     "name": "stdout",
     "output_type": "stream",
     "text": [
      "9762.022680412372\n"
     ]
    }
   ],
   "source": [
    "get_metric_info(run_id, \"system/system_memory_usage_megabytes\")"
   ]
  },
  {
   "cell_type": "code",
   "execution_count": 509,
   "id": "7720e045-fdc7-4d6c-8465-a900cf0213a0",
   "metadata": {},
   "outputs": [
    {
     "name": "stdout",
     "output_type": "stream",
     "text": [
      "55.21649484536083\n"
     ]
    }
   ],
   "source": [
    "get_metric_info(run_id, \"system/gpu_3_utilization_percentage\")"
   ]
  },
  {
   "cell_type": "code",
   "execution_count": 510,
   "id": "99109834-5563-4862-98bf-be30345cad73",
   "metadata": {},
   "outputs": [
    {
     "name": "stdout",
     "output_type": "stream",
     "text": [
      "3566.967010309276\n"
     ]
    }
   ],
   "source": [
    "get_metric_info(run_id, \"system/gpu_3_memory_usage_megabytes\")"
   ]
  },
  {
   "cell_type": "code",
   "execution_count": 511,
   "id": "74f66ec6-e867-4700-99d4-4e4e75752f42",
   "metadata": {},
   "outputs": [
    {
     "name": "stdout",
     "output_type": "stream",
     "text": [
      "123.76597938144329\n"
     ]
    }
   ],
   "source": [
    "get_metric_info(run_id, \"system/gpu_3_power_usage_watts\")"
   ]
  },
  {
   "cell_type": "code",
   "execution_count": null,
   "id": "d9bca323-92ae-408b-ba0e-0296ed5da024",
   "metadata": {},
   "outputs": [],
   "source": []
  },
  {
   "cell_type": "code",
   "execution_count": 512,
   "id": "315e7da3-b57b-43f2-b93d-368c201998dd",
   "metadata": {},
   "outputs": [
    {
     "data": {
      "image/png": "[encoded data removed]",
      "text/plain": [
       "<Figure size 720x360 with 1 Axes>"
      ]
     },
     "metadata": {
      "needs_background": "light"
     },
     "output_type": "display_data"
    }
   ],
   "source": [
    "plot_metric(run_id, \"average_loss\", \"Época\", \"Pérdida promedio\", \"Pérdida promedio por época\", \"loos_train_exp4.png\")"
   ]
  },
  {
   "cell_type": "markdown",
   "id": "1ffc16a8-508d-4fc4-ad51-b4f7d5ce1e65",
   "metadata": {},
   "source": [
    "#### Ajuste fino"
   ]
  },
  {
   "cell_type": "code",
   "execution_count": 514,
   "id": "b0bfb67f-26d8-470c-8f33-fe618c283ab9",
   "metadata": {},
   "outputs": [],
   "source": [
    "experiment = mlflow.get_experiment_by_name(\"Fine-tuning\")"
   ]
  },
  {
   "cell_type": "code",
   "execution_count": 515,
   "id": "28d20dfd-7e71-493c-92a8-5ed379425655",
   "metadata": {},
   "outputs": [],
   "source": [
    "runs = mlflow.search_runs(experiment_ids=[experiment.experiment_id])"
   ]
  },
  {
   "cell_type": "code",
   "execution_count": 516,
   "id": "a2499e46-b107-4ac1-815f-67bbe743c6b8",
   "metadata": {},
   "outputs": [],
   "source": [
    "exp = runs[runs[\"tags.mlflow.runName\"] ==  \"classy-lynx-584\"]"
   ]
  },
  {
   "cell_type": "code",
   "execution_count": 517,
   "id": "a852510a-46b3-4c65-985c-aeac3a3b1554",
   "metadata": {},
   "outputs": [
    {
     "data": {
      "text/html": [
       "<div>\n",
       "<style scoped>\n",
       "    .dataframe tbody tr th:only-of-type {\n",
       "        vertical-align: middle;\n",
       "    }\n",
       "\n",
       "    .dataframe tbody tr th {\n",
       "        vertical-align: top;\n",
       "    }\n",
       "\n",
       "    .dataframe thead th {\n",
       "        text-align: right;\n",
       "    }\n",
       "</style>\n",
       "<table border=\"1\" class=\"dataframe\">\n",
       "  <thead>\n",
       "    <tr style=\"text-align: right;\">\n",
       "      <th></th>\n",
       "      <th>run_id</th>\n",
       "      <th>experiment_id</th>\n",
       "      <th>status</th>\n",
       "      <th>artifact_uri</th>\n",
       "      <th>start_time</th>\n",
       "      <th>end_time</th>\n",
       "      <th>metrics.system/gpu_2_power_usage_watts</th>\n",
       "      <th>metrics.system/gpu_2_utilization_percentage</th>\n",
       "      <th>metrics.system/gpu_3_utilization_percentage</th>\n",
       "      <th>metrics.system/gpu_3_memory_usage_percentage</th>\n",
       "      <th>...</th>\n",
       "      <th>tags.mlflow.user</th>\n",
       "      <th>tags.mlflow.source.type</th>\n",
       "      <th>tags.mlflow.runName</th>\n",
       "      <th>tags.mlflow.source.name</th>\n",
       "      <th>tags.mlflow.parentRunId</th>\n",
       "      <th>tags.mlflow.source.git.commit</th>\n",
       "      <th>tags.pretrain_run_id</th>\n",
       "      <th>tags.mlflow.note.content</th>\n",
       "      <th>tags.pretrain_run_name</th>\n",
       "      <th>tags.pretrain</th>\n",
       "    </tr>\n",
       "  </thead>\n",
       "  <tbody>\n",
       "    <tr>\n",
       "      <th>282</th>\n",
       "      <td>246bcc1ddde64e13ad7a0d745819bb18</td>\n",
       "      <td>278242996031726872</td>\n",
       "      <td>FINISHED</td>\n",
       "      <td>file:///opt/code/mlruns/278242996031726872/246...</td>\n",
       "      <td>2024-08-25 18:33:00.497000+00:00</td>\n",
       "      <td>2024-08-26 05:31:30.075000+00:00</td>\n",
       "      <td>62.4</td>\n",
       "      <td>0.0</td>\n",
       "      <td>0.0</td>\n",
       "      <td>25.7</td>\n",
       "      <td>...</td>\n",
       "      <td>root</td>\n",
       "      <td>LOCAL</td>\n",
       "      <td>classy-lynx-584</td>\n",
       "      <td>timert_cli.py</td>\n",
       "      <td>None</td>\n",
       "      <td>082154634b0f7a6f5b922eae1fbb1d49b208a9b2</td>\n",
       "      <td>880b7adc9a244f31949f09a57d597f53</td>\n",
       "      <td>None</td>\n",
       "      <td>masked-bird-8</td>\n",
       "      <td>None</td>\n",
       "    </tr>\n",
       "  </tbody>\n",
       "</table>\n",
       "<p>1 rows × 286 columns</p>\n",
       "</div>"
      ],
      "text/plain": [
       "                               run_id       experiment_id    status  \\\n",
       "282  246bcc1ddde64e13ad7a0d745819bb18  278242996031726872  FINISHED   \n",
       "\n",
       "                                          artifact_uri  \\\n",
       "282  file:///opt/code/mlruns/278242996031726872/246...   \n",
       "\n",
       "                          start_time                         end_time  \\\n",
       "282 2024-08-25 18:33:00.497000+00:00 2024-08-26 05:31:30.075000+00:00   \n",
       "\n",
       "     metrics.system/gpu_2_power_usage_watts  \\\n",
       "282                                    62.4   \n",
       "\n",
       "     metrics.system/gpu_2_utilization_percentage  \\\n",
       "282                                          0.0   \n",
       "\n",
       "     metrics.system/gpu_3_utilization_percentage  \\\n",
       "282                                          0.0   \n",
       "\n",
       "     metrics.system/gpu_3_memory_usage_percentage  ...  tags.mlflow.user  \\\n",
       "282                                          25.7  ...              root   \n",
       "\n",
       "     tags.mlflow.source.type  tags.mlflow.runName  tags.mlflow.source.name  \\\n",
       "282                    LOCAL      classy-lynx-584            timert_cli.py   \n",
       "\n",
       "     tags.mlflow.parentRunId             tags.mlflow.source.git.commit  \\\n",
       "282                     None  082154634b0f7a6f5b922eae1fbb1d49b208a9b2   \n",
       "\n",
       "                 tags.pretrain_run_id  tags.mlflow.note.content  \\\n",
       "282  880b7adc9a244f31949f09a57d597f53                      None   \n",
       "\n",
       "     tags.pretrain_run_name  tags.pretrain  \n",
       "282           masked-bird-8           None  \n",
       "\n",
       "[1 rows x 286 columns]"
      ]
     },
     "execution_count": 517,
     "metadata": {},
     "output_type": "execute_result"
    }
   ],
   "source": [
    "exp"
   ]
  },
  {
   "cell_type": "code",
   "execution_count": 518,
   "id": "153c76f2-2e81-4b60-b8f6-cbc81c09c824",
   "metadata": {},
   "outputs": [],
   "source": [
    "run_id = exp.iloc[0].run_id"
   ]
  },
  {
   "cell_type": "code",
   "execution_count": 519,
   "id": "d50c8aa9-b970-47a2-bc2c-c1c2b9465441",
   "metadata": {},
   "outputs": [],
   "source": [
    "exp_id = exp.iloc[0].experiment_id"
   ]
  },
  {
   "cell_type": "code",
   "execution_count": 520,
   "id": "8f176c4c-6f14-4969-bded-74d40ae0fd39",
   "metadata": {},
   "outputs": [
    {
     "name": "stdout",
     "output_type": "stream",
     "text": [
      "10.087179487179485\n"
     ]
    }
   ],
   "source": [
    "get_metric_info(run_id, \"system/cpu_utilization_percentage\")"
   ]
  },
  {
   "cell_type": "code",
   "execution_count": 521,
   "id": "440e5080-e96d-4d23-b8c6-6bb7213200d6",
   "metadata": {},
   "outputs": [
    {
     "name": "stdout",
     "output_type": "stream",
     "text": [
      "8569.776923076925\n"
     ]
    }
   ],
   "source": [
    "get_metric_info(run_id, \"system/system_memory_usage_megabytes\")"
   ]
  },
  {
   "cell_type": "code",
   "execution_count": 522,
   "id": "f21ce357-22a4-488b-b922-9c16d71c70e9",
   "metadata": {},
   "outputs": [
    {
     "name": "stdout",
     "output_type": "stream",
     "text": [
      "46.08974358974359\n"
     ]
    }
   ],
   "source": [
    "get_metric_info(run_id, \"system/gpu_3_utilization_percentage\")"
   ]
  },
  {
   "cell_type": "code",
   "execution_count": 523,
   "id": "671444c0-8da9-4e5b-b961-fe1fd6ef33e3",
   "metadata": {},
   "outputs": [
    {
     "name": "stdout",
     "output_type": "stream",
     "text": [
      "2968.746153846154\n"
     ]
    }
   ],
   "source": [
    "get_metric_info(run_id, \"system/gpu_3_memory_usage_megabytes\")"
   ]
  },
  {
   "cell_type": "code",
   "execution_count": 524,
   "id": "10ee280f-b939-4d2c-8cdb-f12dcec4c39a",
   "metadata": {},
   "outputs": [
    {
     "name": "stdout",
     "output_type": "stream",
     "text": [
      "112.80256410256409\n"
     ]
    }
   ],
   "source": [
    "get_metric_info(run_id, \"system/gpu_3_power_usage_watts\")"
   ]
  },
  {
   "cell_type": "markdown",
   "id": "b0aa8f76-57ff-45e2-8470-f8fecd844dc1",
   "metadata": {},
   "source": [
    "##### Gráfica de clasificadores"
   ]
  },
  {
   "cell_type": "code",
   "execution_count": 525,
   "id": "c3aa8444-a118-4304-a92b-0df972d973dc",
   "metadata": {},
   "outputs": [
    {
     "data": {
      "text/plain": [
       "'278242996031726872'"
      ]
     },
     "execution_count": 525,
     "metadata": {},
     "output_type": "execute_result"
    }
   ],
   "source": [
    "exp_id"
   ]
  },
  {
   "cell_type": "code",
   "execution_count": 526,
   "id": "2f6d4b2f-e3b3-4d3c-8a7c-10b5738bc280",
   "metadata": {},
   "outputs": [],
   "source": [
    "all_runs = client.search_runs(\n",
    "    experiment_ids=[exp_id],\n",
    "    filter_string=f\"tags.mlflow.parentRunId = '{run_id}'\"\n",
    ")"
   ]
  },
  {
   "cell_type": "code",
   "execution_count": 527,
   "id": "98630403-80e2-4c27-bd0b-382619eb8ac9",
   "metadata": {},
   "outputs": [],
   "source": [
    "test_accuracies = [[subrun.info.run_name,\n",
    "                    subrun.data.metrics['test_accuracy'],\n",
    "                    subrun.data.metrics['test_balanced_accuracy']*100] for subrun in all_runs if 'test_accuracy' in subrun.data.metrics]"
   ]
  },
  {
   "cell_type": "code",
   "execution_count": 528,
   "id": "d5e9a0b6-da73-46c9-b948-e6f321e97ec7",
   "metadata": {},
   "outputs": [
    {
     "data": {
      "text/plain": [
       "[['GunPointOldVersusYoung', 95.6043956043956, 95.34883720930232],\n",
       " ['Beef', 58.333333333333336, 53.333333333333336],\n",
       " ['MiddlePhalanxOutlineCorrect', 82.68156424581005, 79.76947535771066],\n",
       " ['GunPoint', 100.0, 100.0],\n",
       " ['SmallKitchenAppliances', 66.0, 66.0],\n",
       " ['ToeSegmentation1', 83.33333333333334, 83.24175824175823],\n",
       " ['TwoLeadECG', 100.0, 100.0],\n",
       " ['SemgHandSubjectCh2', 87.22222222222223, 87.22222222222221],\n",
       " ['InsectWingbeatSound', 62.272727272727266, 62.272727272727266],\n",
       " ['ShapesAll', 75.0, 75.0],\n",
       " ['Crop', 73.22916666666667, 73.22916666666669],\n",
       " ['DodgerLoopWeekend', 100.0, 100.0],\n",
       " ['OSULeaf', 59.55056179775281, 56.115240968182135],\n",
       " ['ShapeletSim', 97.5, 97.5],\n",
       " ['EOGHorizontalSignal', 73.79310344827587, 73.6111111111111],\n",
       " ['FordA', 77.66497461928934, 77.83755683365378],\n",
       " ['DiatomSizeReduction', 100.0, 100.0],\n",
       " ['EthanolLevel', 75.62189054726367, 75.61764705882352],\n",
       " ['SonyAIBORobotSurface1', 99.2, 99.0909090909091],\n",
       " ['DistalPhalanxOutlineCorrect', 77.27272727272727, 75.76252723311548],\n",
       " ['MiddlePhalanxTW', 50.45045045045045, 31.46988795518207],\n",
       " ['GesturePebbleZ1', 88.52459016393442, 88.63636363636364],\n",
       " ['Lightning2', 72.0, 68.33333333333333],\n",
       " ['SyntheticControl', 95.0, 95.0],\n",
       " ['Worms', 53.84615384615385, 50.61183261183262],\n",
       " ['UWaveGestureLibraryX', 79.91071428571429, 79.91071428571428],\n",
       " ['Wafer', 98.53454291695743, 99.1796875],\n",
       " ['CricketZ', 75.0, 75.0],\n",
       " ['GunPointAgeSpan', 97.8021978021978, 97.80193236714976],\n",
       " ['ECG5000', 93.60000000000001, 54.07497586548213],\n",
       " ['CricketX', 67.94871794871796, 67.94871794871796],\n",
       " ['FaceFour', 95.65217391304348, 95.83333333333334],\n",
       " ['FreezerRegularTrain', 100.0, 100.0],\n",
       " ['PLAID', 74.4186046511628, 72.45069096401495],\n",
       " ['NonInvasiveFetalECGThorax1', 88.44621513944223, 88.43587727488656],\n",
       " ['PigAirwayPressure', 9.523809523809524, 11.538461538461538],\n",
       " ['GunPointMaleVersusFemale', 98.9010989010989, 98.95833333333333],\n",
       " ['MoteStrain', 96.86274509803921, 96.72770011134479],\n",
       " ['UMD', 97.22222222222221, 97.22222222222221],\n",
       " ['UWaveGestureLibraryY', 72.54464285714286, 72.54464285714286],\n",
       " ['DodgerLoopDay', 50.0, 49.28571428571429],\n",
       " ['FiftyWords', 57.4585635359116, 43.2440836940837],\n",
       " ['Car', 54.166666666666664, 54.166666666666664],\n",
       " ['Meat', 79.16666666666666, 79.16666666666666],\n",
       " ['ShakeGestureWiimoteZ', 80.0, 80.0]]"
      ]
     },
     "execution_count": 528,
     "metadata": {},
     "output_type": "execute_result"
    }
   ],
   "source": [
    "test_accuracies"
   ]
  },
  {
   "cell_type": "code",
   "execution_count": 529,
   "id": "25314e5f-4aad-4415-b3d5-2e407fb84786",
   "metadata": {},
   "outputs": [],
   "source": [
    "run_names = [item[0] for item in test_accuracies]\n",
    "test_accuracy_values = [item[1] for item in test_accuracies]\n",
    "test_balanced_accuracy_values = [item[2] for item in test_accuracies]"
   ]
  },
  {
   "cell_type": "code",
   "execution_count": 532,
   "id": "2b592f84-cc7b-4415-9dbe-c59ab5644e1f",
   "metadata": {},
   "outputs": [
    {
     "data": {
      "image/png": "[encoded data removed]",
      "text/plain": [
       "<Figure size 864x432 with 1 Axes>"
      ]
     },
     "metadata": {
      "needs_background": "light"
     },
     "output_type": "display_data"
    }
   ],
   "source": [
    "# Número de grupos\n",
    "n_groups = len(run_names)\n",
    "\n",
    "# Crear posiciones para las barras\n",
    "index = np.arange(n_groups)\n",
    "bar_width = 0.35\n",
    "\n",
    "# Crear la figura\n",
    "plt.figure(figsize=(12, 6))\n",
    "\n",
    "# Colores\n",
    "colors = ['#F80044', '#6d8dfa']\n",
    "\n",
    "# Hachuras para las texturas\n",
    "hatch_patterns = ['///|||', '---+++']  # Hachuras diferentes para cada conjunto de barras\n",
    "\n",
    "# Gráfica de barras para test_accuracy\n",
    "plt.bar(index, test_accuracy_values, bar_width, color=colors[0], label='Exactitud')\n",
    "\n",
    "# Gráfica de barras para test_balanced_accuracy\n",
    "plt.bar(index + bar_width, test_balanced_accuracy_values, bar_width, color=colors[1], label='Exactiud balanceada')\n",
    "\n",
    "# Configuración de las etiquetas y título\n",
    "plt.xlabel('Conjunto de datos')\n",
    "plt.ylabel('Exactitud')\n",
    "plt.title('Exactitud y exactitud balanceada por conjunto de datos')\n",
    "plt.xticks(index + bar_width / 2, run_names, rotation=45, ha='right')\n",
    "\n",
    "# Añadir la leyenda\n",
    "plt.legend()\n",
    "\n",
    "plt.grid(True, which='both', linestyle='--', linewidth=0.5)\n",
    "\n",
    "plt.savefig(\"exactitud-exp4.png\", format='png', dpi=300, bbox_inches='tight')\n",
    "\n",
    "# Mostrar la gráfica\n",
    "plt.tight_layout()\n",
    "plt.show()"
   ]
  },
  {
   "cell_type": "code",
   "execution_count": null,
   "id": "79a10831-ef40-4ad8-83f4-5defda3d3859",
   "metadata": {},
   "outputs": [],
   "source": []
  },
  {
   "cell_type": "code",
   "execution_count": null,
   "id": "0ae503c7-a524-4f53-a24d-6879af6dc0fe",
   "metadata": {},
   "outputs": [],
   "source": []
  },
  {
   "cell_type": "code",
   "execution_count": null,
   "id": "797854bf-99ed-4d4f-8d0d-0ec0ad18b65a",
   "metadata": {},
   "outputs": [],
   "source": []
  },
  {
   "cell_type": "code",
   "execution_count": null,
   "id": "6c3f91a2-bcfb-47ce-9c1a-930bd1e22f00",
   "metadata": {},
   "outputs": [],
   "source": []
  },
  {
   "cell_type": "code",
   "execution_count": 531,
   "id": "d3f2045c-c058-4e15-a64d-4a00a37e1228",
   "metadata": {},
   "outputs": [
    {
     "name": "stdout",
     "output_type": "stream",
     "text": [
      "Metric: average_loss_train = 2.1119857046869582e-05\n",
      "Metric: train_accuracy = 100.0\n",
      "Metric: average_loss_validation = 0.09964287932962179\n",
      "Metric: validation_accuracy = 95.55555555555556\n",
      "Metric: epoch_time = 0.3995237350463867\n",
      "Metric: total_train_eval_time = 434.73295736312866\n",
      "Metric: test_accuracy = 95.6043956043956\n",
      "Metric: test_balanced_accuracy = 0.9534883720930232\n",
      "Metric: test_precision_macro = 0.46153846153846156\n",
      "Metric: test_recall_macro = 0.5\n",
      "Metric: test_f1_macro = 0.48000000000000004\n",
      "Metric: test_precision_micro = 0.9230769230769231\n",
      "Metric: test_recall_micro = 1.0\n",
      "Metric: test_f1_micro = 0.9600000000000001\n",
      "Metric: precision_class_1 = 0.9230769230769231\n",
      "Metric: recall_class_1 = 1.0\n",
      "Metric: f1_class_1 = 0.9600000000000001\n",
      "Metric: precision_class_2 = 0.0\n",
      "Metric: recall_class_2 = 0.0\n",
      "Metric: f1_class_2 = 0.0\n",
      "Metric: total_test_time = 0.8845784664154053\n",
      "Metric: best_epoch = 287.0\n",
      "Metric: best_train_loss = 4.765670601045713e-05\n",
      "Metric: best_train_accuracy = 100.0\n",
      "Metric: best_eval_loss = 0.038328052247379674\n",
      "Metric: best_eval_accuracy = 96.66666666666667\n",
      "Param: train_fraction = 0.6\n",
      "Param: valid_fraction = 0.2\n",
      "Param: test_fraction = 0.2\n",
      "Param: n_classes = 2\n",
      "Param: classifier_architecture = CustomTSClassifier(\n",
      "  (encoder): MAEEncoder(\n",
      "    (encoder): Transformer(\n",
      "      (in_net): Conv1d(1, 64, kernel_size=(7,), stride=(2,), padding=(3,))\n",
      "      (transformer): Sequential(\n",
      "        (encoder_00): TransformerEncoderLayer(\n",
      "          (self_attn): MultiheadAttention(\n",
      "            (out_proj): NonDynamicallyQuantizableLinear(in_features=64, out_features=64, bias=True)\n",
      "          )\n",
      "          (linear1): Linear(in_features=64, out_features=64, bias=True)\n",
      "          (dropout): Dropout(p=0.0, inplace=False)\n",
      "          (linear2): Linear(in_features=64, out_features=64, bias=True)\n",
      "          (norm1): LayerNorm((64,), eps=1e-05, elementwise_affine=True)\n",
      "          (norm2): LayerNorm((64,), eps=1e-05, elementwise_affine=True)\n",
      "          (dropout1): Dropout(p=0.0, inplace=False)\n",
      "          (dropout2): Dropout(p=0.0, inplace=False)\n",
      "        )\n",
      "        (encoder_01): TransformerEncoderLayer(\n",
      "          (self_attn): MultiheadAttention(\n",
      "            (out_proj): NonDynamicallyQuantizableLinear(in_features=64, out_features=64, bias=True)\n",
      "          )\n",
      "          (linear1): Linear(in_features=64, out_features=64, bias=True)\n",
      "          (dropout): Dropout(p=0.0, inplace=False)\n",
      "          (linear2): Linear(in_features=64, out_features=64, bias=True)\n",
      "          (norm1): LayerNorm((64,), eps=1e-05, elementwise_affine=True)\n",
      "          (norm2): LayerNorm((64,), eps=1e-05, elementwise_affine=True)\n",
      "          (dropout1): Dropout(p=0.0, inplace=False)\n",
      "          (dropout2): Dropout(p=0.0, inplace=False)\n",
      "        )\n",
      "        (encoder_02): TransformerEncoderLayer(\n",
      "          (self_attn): MultiheadAttention(\n",
      "            (out_proj): NonDynamicallyQuantizableLinear(in_features=64, out_features=64, bias=True)\n",
      "          )\n",
      "          (linear1): Linear(in_features=64, out_features=64, bias=True)\n",
      "          (dropout): Dropout(p=0.0, inplace=False)\n",
      "          (linear2): Linear(in_features=64, out_features=64, bias=True)\n",
      "          (norm1): LayerNorm((64,), eps=1e-05, elementwise_affine=True)\n",
      "          (norm2): LayerNorm((64,), eps=1e-05, elementwise_affine=True)\n",
      "          (dropout1): Dropout(p=0.0, inplace=False)\n",
      "          (dropout2): Dropout(p=0.0, inplace=False)\n",
      "        )\n",
      "        (encoder_03): TransformerEncoderLayer(\n",
      "          (self_attn): MultiheadAttention(\n",
      "            (out_proj): NonDynamicallyQuantizableLinear(in_features=64, out_features=64, bias=True)\n",
      "          )\n",
      "          (linear1): Linear(in_features=64, out_features=64, bias=True)\n",
      "          (dropout): Dropout(p=0.0, inplace=False)\n",
      "          (linear2): Linear(in_features=64, out_features=64, bias=True)\n",
      "          (norm1): LayerNorm((64,), eps=1e-05, elementwise_affine=True)\n",
      "          (norm2): LayerNorm((64,), eps=1e-05, elementwise_affine=True)\n",
      "          (dropout1): Dropout(p=0.0, inplace=False)\n",
      "          (dropout2): Dropout(p=0.0, inplace=False)\n",
      "        )\n",
      "      )\n",
      "      (out_net): Linear(in_features=64, out_features=512, bias=True)\n",
      "      (projector): Sequential(\n",
      "        (0): ReLU()\n",
      "        (1): LayerNorm((512,), eps=1e-05, elementwise_affine=True)\n",
      "        (2): Linear(in_features=512, out_features=1024, bias=True)\n",
      "        (3): ReLU()\n",
      "        (4): LayerNorm((1024,), eps=1e-05, elementwise_affine=True)\n",
      "        (5): Linear(in_features=1024, out_features=512, bias=True)\n",
      "      )\n",
      "      (pos_net): LearnablePositionalEncoding(\n",
      "        (dropout): Dropout(p=0.0, inplace=False)\n",
      "      )\n",
      "    )\n",
      "  )\n",
      "  (classifier): Sequential(\n",
      "    (linear_00): Linear(in_features=512, out_features=64, bias=True)\n",
      "    (relu_00): ReLU()\n",
      "    (linear_01): Linear(in_features=64, out_features=2, bias=True)\n",
      "  )\n",
      ")\n",
      "Param: optimizer_name = AdamW (\n",
      "Parameter Group 0\n",
      "    amsgrad: False\n",
      "    betas: (0.9, 0.999)\n",
      "    eps: 1e-08\n",
      "    lr: 0.0001\n",
      "    maximize: False\n",
      "    weight_decay: 0.01\n",
      ")\n",
      "Param: learning_rate = 0.0001\n",
      "Param: loss_function = CrossEntropyLoss()\n",
      "Param: n_epoch = 400\n",
      "Tag: mlflow.user = root\n",
      "Tag: mlflow.source.name = timert_cli.py\n",
      "Tag: mlflow.source.type = LOCAL\n",
      "Tag: mlflow.source.git.commit = 082154634b0f7a6f5b922eae1fbb1d49b208a9b2\n",
      "Tag: mlflow.parentRunId = 246bcc1ddde64e13ad7a0d745819bb18\n",
      "Tag: mlflow.runName = GunPointOldVersusYoung\n",
      "Run ID: 5642cafd8cbd4c7aae70463c6e962d39, Experiment ID: 278242996031726872, Run Name: GunPointOldVersusYoung\n",
      "Status: FINISHED, Start Time: 1724649852552, End Time: 1724650289572, User ID: root\n",
      "Artifact URI: file:///opt/code/mlruns/278242996031726872/5642cafd8cbd4c7aae70463c6e962d39/artifacts\n",
      "-----------\n",
      "Metric: average_loss_train = 0.005101141985505819\n",
      "Metric: train_accuracy = 100.0\n",
      "Metric: average_loss_validation = 2.0741653442382812\n",
      "Metric: validation_accuracy = 50.0\n",
      "Metric: epoch_time = 0.1725482940673828\n",
      "Metric: total_train_eval_time = 104.4519636631012\n",
      "Metric: test_accuracy = 58.333333333333336\n",
      "Metric: test_balanced_accuracy = 0.5333333333333333\n",
      "Metric: test_precision_macro = 0.3466666666666666\n",
      "Metric: test_recall_macro = 0.3333333333333333\n",
      "Metric: test_f1_macro = 0.3133333333333333\n",
      "Metric: test_precision_micro = 0.4444444444444444\n",
      "Metric: test_recall_micro = 0.4444444444444444\n",
      "Metric: test_f1_micro = 0.4444444444444444\n",
      "Metric: precision_class_1 = 0.0\n",
      "Metric: recall_class_1 = 0.0\n",
      "Metric: f1_class_1 = 0.0\n",
      "Metric: precision_class_2 = 0.4\n",
      "Metric: recall_class_2 = 0.6666666666666666\n",
      "Metric: f1_class_2 = 0.5\n",
      "Metric: precision_class_3 = 1.0\n",
      "Metric: recall_class_3 = 0.5\n",
      "Metric: f1_class_3 = 0.6666666666666666\n",
      "Metric: precision_class_4 = 0.3333333333333333\n",
      "Metric: recall_class_4 = 0.5\n",
      "Metric: f1_class_4 = 0.4\n",
      "Metric: precision_class_5 = 0.0\n",
      "Metric: recall_class_5 = 0.0\n",
      "Metric: f1_class_5 = 0.0\n",
      "Metric: total_test_time = 2.715207099914551\n",
      "Metric: best_epoch = 37.0\n",
      "Metric: best_train_loss = 0.6182478070259094\n",
      "Metric: best_train_accuracy = 91.66666666666667\n",
      "Metric: best_eval_loss = 1.374158263206482\n",
      "Metric: best_eval_accuracy = 50.0\n",
      "Param: train_fraction = 0.6\n",
      "Param: valid_fraction = 0.2\n",
      "Param: test_fraction = 0.2\n",
      "Param: n_classes = 5\n",
      "Param: classifier_architecture = CustomTSClassifier(\n",
      "  (encoder): MAEEncoder(\n",
      "    (encoder): Transformer(\n",
      "      (in_net): Conv1d(1, 64, kernel_size=(7,), stride=(2,), padding=(3,))\n",
      "      (transformer): Sequential(\n",
      "        (encoder_00): TransformerEncoderLayer(\n",
      "          (self_attn): MultiheadAttention(\n",
      "            (out_proj): NonDynamicallyQuantizableLinear(in_features=64, out_features=64, bias=True)\n",
      "          )\n",
      "          (linear1): Linear(in_features=64, out_features=64, bias=True)\n",
      "          (dropout): Dropout(p=0.0, inplace=False)\n",
      "          (linear2): Linear(in_features=64, out_features=64, bias=True)\n",
      "          (norm1): LayerNorm((64,), eps=1e-05, elementwise_affine=True)\n",
      "          (norm2): LayerNorm((64,), eps=1e-05, elementwise_affine=True)\n",
      "          (dropout1): Dropout(p=0.0, inplace=False)\n",
      "          (dropout2): Dropout(p=0.0, inplace=False)\n",
      "        )\n",
      "        (encoder_01): TransformerEncoderLayer(\n",
      "          (self_attn): MultiheadAttention(\n",
      "            (out_proj): NonDynamicallyQuantizableLinear(in_features=64, out_features=64, bias=True)\n",
      "          )\n",
      "          (linear1): Linear(in_features=64, out_features=64, bias=True)\n",
      "          (dropout): Dropout(p=0.0, inplace=False)\n",
      "          (linear2): Linear(in_features=64, out_features=64, bias=True)\n",
      "          (norm1): LayerNorm((64,), eps=1e-05, elementwise_affine=True)\n",
      "          (norm2): LayerNorm((64,), eps=1e-05, elementwise_affine=True)\n",
      "          (dropout1): Dropout(p=0.0, inplace=False)\n",
      "          (dropout2): Dropout(p=0.0, inplace=False)\n",
      "        )\n",
      "        (encoder_02): TransformerEncoderLayer(\n",
      "          (self_attn): MultiheadAttention(\n",
      "            (out_proj): NonDynamicallyQuantizableLinear(in_features=64, out_features=64, bias=True)\n",
      "          )\n",
      "          (linear1): Linear(in_features=64, out_features=64, bias=True)\n",
      "          (dropout): Dropout(p=0.0, inplace=False)\n",
      "          (linear2): Linear(in_features=64, out_features=64, bias=True)\n",
      "          (norm1): LayerNorm((64,), eps=1e-05, elementwise_affine=True)\n",
      "          (norm2): LayerNorm((64,), eps=1e-05, elementwise_affine=True)\n",
      "          (dropout1): Dropout(p=0.0, inplace=False)\n",
      "          (dropout2): Dropout(p=0.0, inplace=False)\n",
      "        )\n",
      "        (encoder_03): TransformerEncoderLayer(\n",
      "          (self_attn): MultiheadAttention(\n",
      "            (out_proj): NonDynamicallyQuantizableLinear(in_features=64, out_features=64, bias=True)\n",
      "          )\n",
      "          (linear1): Linear(in_features=64, out_features=64, bias=True)\n",
      "          (dropout): Dropout(p=0.0, inplace=False)\n",
      "          (linear2): Linear(in_features=64, out_features=64, bias=True)\n",
      "          (norm1): LayerNorm((64,), eps=1e-05, elementwise_affine=True)\n",
      "          (norm2): LayerNorm((64,), eps=1e-05, elementwise_affine=True)\n",
      "          (dropout1): Dropout(p=0.0, inplace=False)\n",
      "          (dropout2): Dropout(p=0.0, inplace=False)\n",
      "        )\n",
      "      )\n",
      "      (out_net): Linear(in_features=64, out_features=512, bias=True)\n",
      "      (projector): Sequential(\n",
      "        (0): ReLU()\n",
      "        (1): LayerNorm((512,), eps=1e-05, elementwise_affine=True)\n",
      "        (2): Linear(in_features=512, out_features=1024, bias=True)\n",
      "        (3): ReLU()\n",
      "        (4): LayerNorm((1024,), eps=1e-05, elementwise_affine=True)\n",
      "        (5): Linear(in_features=1024, out_features=512, bias=True)\n",
      "      )\n",
      "      (pos_net): LearnablePositionalEncoding(\n",
      "        (dropout): Dropout(p=0.0, inplace=False)\n",
      "      )\n",
      "    )\n",
      "  )\n",
      "  (classifier): Sequential(\n",
      "    (linear_00): Linear(in_features=512, out_features=64, bias=True)\n",
      "    (relu_00): ReLU()\n",
      "    (linear_01): Linear(in_features=64, out_features=5, bias=True)\n",
      "  )\n",
      ")\n",
      "Param: optimizer_name = AdamW (\n",
      "Parameter Group 0\n",
      "    amsgrad: False\n",
      "    betas: (0.9, 0.999)\n",
      "    eps: 1e-08\n",
      "    lr: 0.0001\n",
      "    maximize: False\n",
      "    weight_decay: 0.01\n",
      ")\n",
      "Param: learning_rate = 0.0001\n",
      "Param: loss_function = CrossEntropyLoss()\n",
      "Param: n_epoch = 400\n",
      "Tag: mlflow.user = root\n",
      "Tag: mlflow.source.name = timert_cli.py\n",
      "Tag: mlflow.source.type = LOCAL\n",
      "Tag: mlflow.source.git.commit = 082154634b0f7a6f5b922eae1fbb1d49b208a9b2\n",
      "Tag: mlflow.parentRunId = 246bcc1ddde64e13ad7a0d745819bb18\n",
      "Tag: mlflow.runName = Beef\n",
      "Run ID: 3abf113c8a7f4aa8a2a168c8b1488040, Experiment ID: 278242996031726872, Run Name: Beef\n",
      "Status: FINISHED, Start Time: 1724649743578, End Time: 1724649852439, User ID: root\n",
      "Artifact URI: file:///opt/code/mlruns/278242996031726872/3abf113c8a7f4aa8a2a168c8b1488040/artifacts\n",
      "-----------\n"
     ]
    }
   ],
   "source": [
    "for run in all_runs[0:2]:\n",
    "    # Acceder a los atributos de `Run`\n",
    "    run_id = run.info.run_id\n",
    "    experiment_id = run.info.experiment_id\n",
    "    run_name = run.info.run_name\n",
    "    status = run.info.status\n",
    "    start_time = run.info.start_time\n",
    "    end_time = run.info.end_time\n",
    "    user_id = run.info.user_id\n",
    "\n",
    "    # Acceder a las métricas\n",
    "    metrics = run.data.metrics\n",
    "    for metric_name, metric_value in metrics.items():\n",
    "        print(f\"Metric: {metric_name} = {metric_value}\")\n",
    "    \n",
    "    # Acceder a los parámetros\n",
    "    params = run.data.params\n",
    "    for param_name, param_value in params.items():\n",
    "        print(f\"Param: {param_name} = {param_value}\")\n",
    "    \n",
    "    # Acceder a los tags\n",
    "    tags = run.data.tags\n",
    "    for tag_name, tag_value in tags.items():\n",
    "        print(f\"Tag: {tag_name} = {tag_value}\")\n",
    "    \n",
    "    # Información adicional del run\n",
    "    artifact_uri = run.info.artifact_uri\n",
    "    print(f\"Run ID: {run_id}, Experiment ID: {experiment_id}, Run Name: {run_name}\")\n",
    "    print(f\"Status: {status}, Start Time: {start_time}, End Time: {end_time}, User ID: {user_id}\")\n",
    "    print(f\"Artifact URI: {artifact_uri}\")\n",
    "    print(\"-----------\")"
   ]
  },
  {
   "cell_type": "markdown",
   "id": "e668a4b8-d6cc-434a-a0c2-35c4933f106b",
   "metadata": {},
   "source": [
    "## extras"
   ]
  },
  {
   "cell_type": "code",
   "execution_count": null,
   "id": "b6b7b99b-c891-4b52-800f-e045977466aa",
   "metadata": {},
   "outputs": [],
   "source": []
  },
  {
   "cell_type": "code",
   "execution_count": 360,
   "id": "bb752480-92c7-4bff-8141-0a2f1965ca75",
   "metadata": {},
   "outputs": [],
   "source": [
    "# tiempos de época\n",
    "#epoch_times = mlflow.get_metric_history(run_id=run_id, key=\"epoch_time\")\n"
   ]
  },
  {
   "cell_type": "code",
   "execution_count": 361,
   "id": "9620f5fc-9843-4f9f-a465-e3c9c00332a2",
   "metadata": {},
   "outputs": [],
   "source": [
    "epoch_time_values = [metric.value for metric in epoch_time_history]\n",
    "#epoch_time_values = [cast_to_datetime(value) for value in epoch_time_values]\n",
    "epoch_time_steps = [metric.step for metric in epoch_time_history]"
   ]
  },
  {
   "cell_type": "code",
   "execution_count": 362,
   "id": "cd845efc-69e7-40d7-9be9-09dad4aafb92",
   "metadata": {},
   "outputs": [],
   "source": [
    "promedio_segs = sum(epoch_time_values) / len(epoch_time_values)"
   ]
  },
  {
   "cell_type": "code",
   "execution_count": 363,
   "id": "63533699-feb2-4835-bc78-51a0f3942fd3",
   "metadata": {},
   "outputs": [],
   "source": [
    "promedio_segs = cast_to_datetime(promedio_segs)"
   ]
  },
  {
   "cell_type": "code",
   "execution_count": 364,
   "id": "93acaf5d-f665-4e24-9997-9e4cb9301d60",
   "metadata": {},
   "outputs": [
    {
     "data": {
      "text/plain": [
       "'00:02:16'"
      ]
     },
     "execution_count": 364,
     "metadata": {},
     "output_type": "execute_result"
    }
   ],
   "source": [
    "promedio_segs.__str__()"
   ]
  },
  {
   "cell_type": "code",
   "execution_count": 365,
   "id": "225dc00f-b2b5-47b9-b940-4c310ae56282",
   "metadata": {},
   "outputs": [],
   "source": [
    "epoch_time_values = [cast_to_datetime(value) for value in epoch_time_values]"
   ]
  },
  {
   "cell_type": "code",
   "execution_count": 366,
   "id": "aa1e33ab-55f0-40d3-8b17-a0fb609f10ee",
   "metadata": {},
   "outputs": [
    {
     "data": {
      "image/png": "[encoded data removed]",
      "text/plain": [
       "<Figure size 720x360 with 1 Axes>"
      ]
     },
     "metadata": {
      "needs_background": "light"
     },
     "output_type": "display_data"
    }
   ],
   "source": [
    "# Graficar tiempo por batch\n",
    "datetime_objects = [datetime.combine(datetime(1900, 1, 1), t) for t in epoch_time_values]\n",
    "# Crear la figura y el gráfico\n",
    "plt.figure(figsize=(10, 5))\n",
    "# Usar un color cálido (naranja) para la línea\n",
    "plt.plot(epoch_time_steps, datetime_objects, label=\"Epoch Time\", color=\"#F80044\", linewidth=2, alpha=0.8)  # Coral\n",
    "# Configurar el eje Y para comenzar en cero y tener intervalos de 15 minutos\n",
    "plt.gca().yaxis.set_major_locator(mdates.MinuteLocator(interval=5))\n",
    "plt.gca().yaxis.set_major_formatter(mdates.DateFormatter('%H:%M'))\n",
    "# Configurar el rango del eje Y\n",
    "plt.ylim([datetime.combine(datetime(1900, 1, 1), time(0, 0)), \n",
    "          datetime.combine(datetime(1900, 1, 1), time(0, 15))])\n",
    "# Etiquetas y título\n",
    "plt.xlabel('Epoch/Step')\n",
    "plt.ylabel('Tiempo (h:mm)')\n",
    "plt.title('Tiempo por época durante el Entrenamiento')\n",
    "# Mostrar la cuadrícula para mayor claridad\n",
    "plt.grid(True, which='both', linestyle='--', linewidth=0.5)\n",
    "# Mostrar la leyenda\n",
    "plt.legend()\n",
    "# Mostrar el gráfico\n",
    "plt.show()"
   ]
  },
  {
   "cell_type": "code",
   "execution_count": 586,
   "id": "ab797cd8-cace-413c-8c2e-e69ce75bba30",
   "metadata": {},
   "outputs": [
    {
     "data": {
      "image/png": "[encoded data removed]",
      "text/plain": [
       "<Figure size 864x360 with 2 Axes>"
      ]
     },
     "metadata": {
      "needs_background": "light"
     },
     "output_type": "display_data"
    }
   ],
   "source": [
    "import matplotlib.pyplot as plt\n",
    "\n",
    "# Ejemplo de datos (simulados)\n",
    "epochs = range(1, 21)\n",
    "train_loss = [0.6, 0.5, 0.4, 0.35, 0.3, 0.25, 0.2, 0.18, 0.16, 0.14, 0.12, 0.1, 0.08, 0.06, 0.04, 0.03, 0.02, 0.01, 0.01, 0.01]\n",
    "val_loss = [0.7, 0.6, 0.5, 0.45, 0.4, 0.38, 0.36, 0.37, 0.38, 0.4, 0.42, 0.45, 0.48, 0.5, 0.52, 0.54, 0.56, 0.57, 0.58, 0.59]\n",
    "train_acc = [0.7, 0.75, 0.78, 0.8, 0.82, 0.85, 0.87, 0.89, 0.91, 0.93, 0.94, 0.95, 0.96, 0.97, 0.98, 0.99, 0.99, 0.99, 0.99, 0.99]\n",
    "val_acc = [0.68, 0.72, 0.75, 0.77, 0.78, 0.79, 0.8, 0.78, 0.77, 0.76, 0.74, 0.72, 0.7, 0.68, 0.66, 0.64, 0.62, 0.61, 0.6, 0.59]\n",
    "\n",
    "# Gráfico de pérdida\n",
    "plt.figure(figsize=(12, 5))\n",
    "\n",
    "plt.subplot(1, 2, 1)\n",
    "plt.plot(epochs, train_loss, label='Train Loss')\n",
    "plt.plot(epochs, val_loss, label='Validation Loss')\n",
    "plt.xlabel('Epochs')\n",
    "plt.ylabel('Loss')\n",
    "plt.title('Train vs Validation Loss')\n",
    "plt.legend()\n",
    "\n",
    "# Gráfico de exactitud\n",
    "plt.subplot(1, 2, 2)\n",
    "plt.plot(epochs, train_acc, label='Train Accuracy')\n",
    "plt.plot(epochs, val_acc, label='Validation Accuracy')\n",
    "plt.xlabel('Epochs')\n",
    "plt.ylabel('Accuracy')\n",
    "plt.title('Train vs Validation Accuracy')\n",
    "plt.legend()\n",
    "\n",
    "plt.tight_layout()\n",
    "plt.show()\n"
   ]
  },
  {
   "cell_type": "code",
   "execution_count": null,
   "id": "7d7c9c33-65a8-43a4-b384-33d018d2a979",
   "metadata": {},
   "outputs": [],
   "source": []
  }
 ],
 "metadata": {
  "kernelspec": {
   "display_name": "Python 3 (ipykernel)",
   "language": "python",
   "name": "python3"
  },
  "language_info": {
   "codemirror_mode": {
    "name": "ipython",
    "version": 3
   },
   "file_extension": ".py",
   "mimetype": "text/x-python",
   "name": "python",
   "nbconvert_exporter": "python",
   "pygments_lexer": "ipython3",
   "version": "3.8.12"
  }
 },
 "nbformat": 4,
 "nbformat_minor": 5
}
